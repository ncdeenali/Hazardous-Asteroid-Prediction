{
  "nbformat": 4,
  "nbformat_minor": 0,
  "metadata": {
    "colab": {
      "provenance": []
    },
    "kernelspec": {
      "name": "python3",
      "display_name": "Python 3"
    },
    "language_info": {
      "name": "python"
    }
  },
  "cells": [
    {
      "cell_type": "code",
      "execution_count": null,
      "metadata": {
        "id": "rSeNMYG7U-ky"
      },
      "outputs": [],
      "source": [
        "import pandas as pd"
      ]
    },
    {
      "cell_type": "code",
      "source": [
        "# mlflow for pkl file\n",
        "!pip install mlflow"
      ],
      "metadata": {
        "colab": {
          "base_uri": "https://localhost:8080/"
        },
        "id": "bxgyYM5sd3Sn",
        "outputId": "661c8a18-f361-4820-951b-fd5565e92294"
      },
      "execution_count": null,
      "outputs": [
        {
          "output_type": "stream",
          "name": "stdout",
          "text": [
            "Requirement already satisfied: mlflow in /usr/local/lib/python3.10/dist-packages (2.13.2)\n",
            "Requirement already satisfied: Flask<4 in /usr/local/lib/python3.10/dist-packages (from mlflow) (2.2.5)\n",
            "Requirement already satisfied: alembic!=1.10.0,<2 in /usr/local/lib/python3.10/dist-packages (from mlflow) (1.13.1)\n",
            "Requirement already satisfied: cachetools<6,>=5.0.0 in /usr/local/lib/python3.10/dist-packages (from mlflow) (5.3.3)\n",
            "Requirement already satisfied: click<9,>=7.0 in /usr/local/lib/python3.10/dist-packages (from mlflow) (8.1.7)\n",
            "Requirement already satisfied: cloudpickle<4 in /usr/local/lib/python3.10/dist-packages (from mlflow) (2.2.1)\n",
            "Requirement already satisfied: docker<8,>=4.0.0 in /usr/local/lib/python3.10/dist-packages (from mlflow) (7.1.0)\n",
            "Requirement already satisfied: entrypoints<1 in /usr/local/lib/python3.10/dist-packages (from mlflow) (0.4)\n",
            "Requirement already satisfied: gitpython<4,>=3.1.9 in /usr/local/lib/python3.10/dist-packages (from mlflow) (3.1.43)\n",
            "Requirement already satisfied: graphene<4 in /usr/local/lib/python3.10/dist-packages (from mlflow) (3.3)\n",
            "Requirement already satisfied: importlib-metadata!=4.7.0,<8,>=3.7.0 in /usr/local/lib/python3.10/dist-packages (from mlflow) (7.1.0)\n",
            "Requirement already satisfied: markdown<4,>=3.3 in /usr/local/lib/python3.10/dist-packages (from mlflow) (3.6)\n",
            "Requirement already satisfied: matplotlib<4 in /usr/local/lib/python3.10/dist-packages (from mlflow) (3.7.1)\n",
            "Requirement already satisfied: numpy<2 in /usr/local/lib/python3.10/dist-packages (from mlflow) (1.25.2)\n",
            "Requirement already satisfied: opentelemetry-api<3,>=1.0.0 in /usr/local/lib/python3.10/dist-packages (from mlflow) (1.25.0)\n",
            "Requirement already satisfied: opentelemetry-sdk<3,>=1.0.0 in /usr/local/lib/python3.10/dist-packages (from mlflow) (1.25.0)\n",
            "Requirement already satisfied: packaging<25 in /usr/local/lib/python3.10/dist-packages (from mlflow) (24.0)\n",
            "Requirement already satisfied: pandas<3 in /usr/local/lib/python3.10/dist-packages (from mlflow) (2.0.3)\n",
            "Requirement already satisfied: protobuf<5,>=3.12.0 in /usr/local/lib/python3.10/dist-packages (from mlflow) (3.20.3)\n",
            "Requirement already satisfied: pyarrow<16,>=4.0.0 in /usr/local/lib/python3.10/dist-packages (from mlflow) (14.0.2)\n",
            "Requirement already satisfied: pytz<2025 in /usr/local/lib/python3.10/dist-packages (from mlflow) (2023.4)\n",
            "Requirement already satisfied: pyyaml<7,>=5.1 in /usr/local/lib/python3.10/dist-packages (from mlflow) (6.0.1)\n",
            "Requirement already satisfied: querystring-parser<2 in /usr/local/lib/python3.10/dist-packages (from mlflow) (1.2.4)\n",
            "Requirement already satisfied: requests<3,>=2.17.3 in /usr/local/lib/python3.10/dist-packages (from mlflow) (2.31.0)\n",
            "Requirement already satisfied: scikit-learn<2 in /usr/local/lib/python3.10/dist-packages (from mlflow) (1.2.2)\n",
            "Requirement already satisfied: scipy<2 in /usr/local/lib/python3.10/dist-packages (from mlflow) (1.11.4)\n",
            "Requirement already satisfied: sqlalchemy<3,>=1.4.0 in /usr/local/lib/python3.10/dist-packages (from mlflow) (2.0.30)\n",
            "Requirement already satisfied: sqlparse<1,>=0.4.0 in /usr/local/lib/python3.10/dist-packages (from mlflow) (0.5.0)\n",
            "Requirement already satisfied: Jinja2<4,>=2.11 in /usr/local/lib/python3.10/dist-packages (from mlflow) (3.1.4)\n",
            "Requirement already satisfied: gunicorn<23 in /usr/local/lib/python3.10/dist-packages (from mlflow) (22.0.0)\n",
            "Requirement already satisfied: Mako in /usr/local/lib/python3.10/dist-packages (from alembic!=1.10.0,<2->mlflow) (1.3.5)\n",
            "Requirement already satisfied: typing-extensions>=4 in /usr/local/lib/python3.10/dist-packages (from alembic!=1.10.0,<2->mlflow) (4.12.1)\n",
            "Requirement already satisfied: urllib3>=1.26.0 in /usr/local/lib/python3.10/dist-packages (from docker<8,>=4.0.0->mlflow) (2.0.7)\n",
            "Requirement already satisfied: Werkzeug>=2.2.2 in /usr/local/lib/python3.10/dist-packages (from Flask<4->mlflow) (3.0.3)\n",
            "Requirement already satisfied: itsdangerous>=2.0 in /usr/local/lib/python3.10/dist-packages (from Flask<4->mlflow) (2.2.0)\n",
            "Requirement already satisfied: gitdb<5,>=4.0.1 in /usr/local/lib/python3.10/dist-packages (from gitpython<4,>=3.1.9->mlflow) (4.0.11)\n",
            "Requirement already satisfied: graphql-core<3.3,>=3.1 in /usr/local/lib/python3.10/dist-packages (from graphene<4->mlflow) (3.2.3)\n",
            "Requirement already satisfied: graphql-relay<3.3,>=3.1 in /usr/local/lib/python3.10/dist-packages (from graphene<4->mlflow) (3.2.0)\n",
            "Requirement already satisfied: aniso8601<10,>=8 in /usr/local/lib/python3.10/dist-packages (from graphene<4->mlflow) (9.0.1)\n",
            "Requirement already satisfied: zipp>=0.5 in /usr/local/lib/python3.10/dist-packages (from importlib-metadata!=4.7.0,<8,>=3.7.0->mlflow) (3.19.1)\n",
            "Requirement already satisfied: MarkupSafe>=2.0 in /usr/local/lib/python3.10/dist-packages (from Jinja2<4,>=2.11->mlflow) (2.1.5)\n",
            "Requirement already satisfied: contourpy>=1.0.1 in /usr/local/lib/python3.10/dist-packages (from matplotlib<4->mlflow) (1.2.1)\n",
            "Requirement already satisfied: cycler>=0.10 in /usr/local/lib/python3.10/dist-packages (from matplotlib<4->mlflow) (0.12.1)\n",
            "Requirement already satisfied: fonttools>=4.22.0 in /usr/local/lib/python3.10/dist-packages (from matplotlib<4->mlflow) (4.53.0)\n",
            "Requirement already satisfied: kiwisolver>=1.0.1 in /usr/local/lib/python3.10/dist-packages (from matplotlib<4->mlflow) (1.4.5)\n",
            "Requirement already satisfied: pillow>=6.2.0 in /usr/local/lib/python3.10/dist-packages (from matplotlib<4->mlflow) (9.4.0)\n",
            "Requirement already satisfied: pyparsing>=2.3.1 in /usr/local/lib/python3.10/dist-packages (from matplotlib<4->mlflow) (3.1.2)\n",
            "Requirement already satisfied: python-dateutil>=2.7 in /usr/local/lib/python3.10/dist-packages (from matplotlib<4->mlflow) (2.8.2)\n",
            "Requirement already satisfied: deprecated>=1.2.6 in /usr/local/lib/python3.10/dist-packages (from opentelemetry-api<3,>=1.0.0->mlflow) (1.2.14)\n",
            "Requirement already satisfied: opentelemetry-semantic-conventions==0.46b0 in /usr/local/lib/python3.10/dist-packages (from opentelemetry-sdk<3,>=1.0.0->mlflow) (0.46b0)\n",
            "Requirement already satisfied: tzdata>=2022.1 in /usr/local/lib/python3.10/dist-packages (from pandas<3->mlflow) (2024.1)\n",
            "Requirement already satisfied: six in /usr/local/lib/python3.10/dist-packages (from querystring-parser<2->mlflow) (1.16.0)\n",
            "Requirement already satisfied: charset-normalizer<4,>=2 in /usr/local/lib/python3.10/dist-packages (from requests<3,>=2.17.3->mlflow) (3.3.2)\n",
            "Requirement already satisfied: idna<4,>=2.5 in /usr/local/lib/python3.10/dist-packages (from requests<3,>=2.17.3->mlflow) (3.7)\n",
            "Requirement already satisfied: certifi>=2017.4.17 in /usr/local/lib/python3.10/dist-packages (from requests<3,>=2.17.3->mlflow) (2024.6.2)\n",
            "Requirement already satisfied: joblib>=1.1.1 in /usr/local/lib/python3.10/dist-packages (from scikit-learn<2->mlflow) (1.4.2)\n",
            "Requirement already satisfied: threadpoolctl>=2.0.0 in /usr/local/lib/python3.10/dist-packages (from scikit-learn<2->mlflow) (3.5.0)\n",
            "Requirement already satisfied: greenlet!=0.4.17 in /usr/local/lib/python3.10/dist-packages (from sqlalchemy<3,>=1.4.0->mlflow) (3.0.3)\n",
            "Requirement already satisfied: wrapt<2,>=1.10 in /usr/local/lib/python3.10/dist-packages (from deprecated>=1.2.6->opentelemetry-api<3,>=1.0.0->mlflow) (1.14.1)\n",
            "Requirement already satisfied: smmap<6,>=3.0.1 in /usr/local/lib/python3.10/dist-packages (from gitdb<5,>=4.0.1->gitpython<4,>=3.1.9->mlflow) (5.0.1)\n"
          ]
        }
      ]
    },
    {
      "cell_type": "code",
      "source": [
        "import mlflow\n",
        "mlflow.end_run()"
      ],
      "metadata": {
        "id": "3GP-w1EloS4R"
      },
      "execution_count": null,
      "outputs": []
    },
    {
      "cell_type": "code",
      "source": [
        "# starting the MLflow run\n",
        "mlflow.start_run(run_name = 'Classification')"
      ],
      "metadata": {
        "colab": {
          "base_uri": "https://localhost:8080/"
        },
        "id": "cIB_-eZ-nZ0i",
        "outputId": "671c7188-406d-4bf1-eafc-8be5fe580596"
      },
      "execution_count": null,
      "outputs": [
        {
          "output_type": "execute_result",
          "data": {
            "text/plain": [
              "<ActiveRun: >"
            ]
          },
          "metadata": {},
          "execution_count": 57
        }
      ]
    },
    {
      "cell_type": "code",
      "source": [
        "# meaningful tag - for run\n",
        "mlflow.set_tag('Run Info', 'AI Systems: KNN Classifier, Hazardous Asteroid')"
      ],
      "metadata": {
        "id": "xW_UBuVOnlJg"
      },
      "execution_count": null,
      "outputs": []
    },
    {
      "cell_type": "code",
      "source": [
        "df = pd.read_csv('/content/HarazdousAsteroid.csv')\n",
        "df.head()"
      ],
      "metadata": {
        "colab": {
          "base_uri": "https://localhost:8080/",
          "height": 295
        },
        "id": "2riIMsd7V4IB",
        "outputId": "eff49f4d-eb63-4c67-cd9a-2fd09bcc179f"
      },
      "execution_count": null,
      "outputs": [
        {
          "output_type": "execute_result",
          "data": {
            "text/plain": [
              "    Object Name  Epoch (TDB)  Orbit Axis (AU)  Orbit Eccentricity  \\\n",
              "0      433 Eros        57800           1.4579              0.2226   \n",
              "1    719 Albert        57800           2.6385              0.5479   \n",
              "2    887 Alinda        57800           2.4787              0.5671   \n",
              "3  1036 Ganymed        57800           2.6628              0.5338   \n",
              "4     1221 Amor        57800           1.9191              0.4356   \n",
              "\n",
              "   Orbit Inclination (deg)  Perihelion Argument (deg)  Node Longitude (deg)  \\\n",
              "0                  10.8277                   178.8050              304.3265   \n",
              "1                  11.5822                   156.1409              183.9204   \n",
              "2                   9.3561                   350.3482              110.5444   \n",
              "3                  26.6929                   132.4690              215.5551   \n",
              "4                  11.8795                    26.6572              171.3448   \n",
              "\n",
              "   Mean Anomoly (deg)  Perihelion Distance (AU)  Aphelion Distance (AU)  \\\n",
              "0            319.3111                    1.1335                    1.78   \n",
              "1            224.5535                    1.1928                    4.08   \n",
              "2            351.3730                    1.0731                    3.88   \n",
              "3             92.5640                    1.2413                    4.08   \n",
              "4            313.7379                    1.0832                    2.76   \n",
              "\n",
              "   Orbital Period (yr)  Minimum Orbit Intersection Distance (AU)  \\\n",
              "0                 1.76                                    0.1492   \n",
              "1                 4.29                                    0.2004   \n",
              "2                 3.90                                    0.0925   \n",
              "3                 4.35                                    0.3421   \n",
              "4                 2.66                                    0.1068   \n",
              "\n",
              "   Orbital Reference  Asteroid Magnitude Classification  Hazardous  \n",
              "0                598               11.16  Amor Asteroid      False  \n",
              "1                 78               15.50  Amor Asteroid      False  \n",
              "2                188               13.40  Amor Asteroid      False  \n",
              "3                597                9.45  Amor Asteroid      False  \n",
              "4                 70               17.70  Amor Asteroid      False  "
            ],
            "text/html": [
              "\n",
              "  <div id=\"df-35aa4fef-b97d-420a-805d-749cf136d740\" class=\"colab-df-container\">\n",
              "    <div>\n",
              "<style scoped>\n",
              "    .dataframe tbody tr th:only-of-type {\n",
              "        vertical-align: middle;\n",
              "    }\n",
              "\n",
              "    .dataframe tbody tr th {\n",
              "        vertical-align: top;\n",
              "    }\n",
              "\n",
              "    .dataframe thead th {\n",
              "        text-align: right;\n",
              "    }\n",
              "</style>\n",
              "<table border=\"1\" class=\"dataframe\">\n",
              "  <thead>\n",
              "    <tr style=\"text-align: right;\">\n",
              "      <th></th>\n",
              "      <th>Object Name</th>\n",
              "      <th>Epoch (TDB)</th>\n",
              "      <th>Orbit Axis (AU)</th>\n",
              "      <th>Orbit Eccentricity</th>\n",
              "      <th>Orbit Inclination (deg)</th>\n",
              "      <th>Perihelion Argument (deg)</th>\n",
              "      <th>Node Longitude (deg)</th>\n",
              "      <th>Mean Anomoly (deg)</th>\n",
              "      <th>Perihelion Distance (AU)</th>\n",
              "      <th>Aphelion Distance (AU)</th>\n",
              "      <th>Orbital Period (yr)</th>\n",
              "      <th>Minimum Orbit Intersection Distance (AU)</th>\n",
              "      <th>Orbital Reference</th>\n",
              "      <th>Asteroid Magnitude</th>\n",
              "      <th>Classification</th>\n",
              "      <th>Hazardous</th>\n",
              "    </tr>\n",
              "  </thead>\n",
              "  <tbody>\n",
              "    <tr>\n",
              "      <th>0</th>\n",
              "      <td>433 Eros</td>\n",
              "      <td>57800</td>\n",
              "      <td>1.4579</td>\n",
              "      <td>0.2226</td>\n",
              "      <td>10.8277</td>\n",
              "      <td>178.8050</td>\n",
              "      <td>304.3265</td>\n",
              "      <td>319.3111</td>\n",
              "      <td>1.1335</td>\n",
              "      <td>1.78</td>\n",
              "      <td>1.76</td>\n",
              "      <td>0.1492</td>\n",
              "      <td>598</td>\n",
              "      <td>11.16</td>\n",
              "      <td>Amor Asteroid</td>\n",
              "      <td>False</td>\n",
              "    </tr>\n",
              "    <tr>\n",
              "      <th>1</th>\n",
              "      <td>719 Albert</td>\n",
              "      <td>57800</td>\n",
              "      <td>2.6385</td>\n",
              "      <td>0.5479</td>\n",
              "      <td>11.5822</td>\n",
              "      <td>156.1409</td>\n",
              "      <td>183.9204</td>\n",
              "      <td>224.5535</td>\n",
              "      <td>1.1928</td>\n",
              "      <td>4.08</td>\n",
              "      <td>4.29</td>\n",
              "      <td>0.2004</td>\n",
              "      <td>78</td>\n",
              "      <td>15.50</td>\n",
              "      <td>Amor Asteroid</td>\n",
              "      <td>False</td>\n",
              "    </tr>\n",
              "    <tr>\n",
              "      <th>2</th>\n",
              "      <td>887 Alinda</td>\n",
              "      <td>57800</td>\n",
              "      <td>2.4787</td>\n",
              "      <td>0.5671</td>\n",
              "      <td>9.3561</td>\n",
              "      <td>350.3482</td>\n",
              "      <td>110.5444</td>\n",
              "      <td>351.3730</td>\n",
              "      <td>1.0731</td>\n",
              "      <td>3.88</td>\n",
              "      <td>3.90</td>\n",
              "      <td>0.0925</td>\n",
              "      <td>188</td>\n",
              "      <td>13.40</td>\n",
              "      <td>Amor Asteroid</td>\n",
              "      <td>False</td>\n",
              "    </tr>\n",
              "    <tr>\n",
              "      <th>3</th>\n",
              "      <td>1036 Ganymed</td>\n",
              "      <td>57800</td>\n",
              "      <td>2.6628</td>\n",
              "      <td>0.5338</td>\n",
              "      <td>26.6929</td>\n",
              "      <td>132.4690</td>\n",
              "      <td>215.5551</td>\n",
              "      <td>92.5640</td>\n",
              "      <td>1.2413</td>\n",
              "      <td>4.08</td>\n",
              "      <td>4.35</td>\n",
              "      <td>0.3421</td>\n",
              "      <td>597</td>\n",
              "      <td>9.45</td>\n",
              "      <td>Amor Asteroid</td>\n",
              "      <td>False</td>\n",
              "    </tr>\n",
              "    <tr>\n",
              "      <th>4</th>\n",
              "      <td>1221 Amor</td>\n",
              "      <td>57800</td>\n",
              "      <td>1.9191</td>\n",
              "      <td>0.4356</td>\n",
              "      <td>11.8795</td>\n",
              "      <td>26.6572</td>\n",
              "      <td>171.3448</td>\n",
              "      <td>313.7379</td>\n",
              "      <td>1.0832</td>\n",
              "      <td>2.76</td>\n",
              "      <td>2.66</td>\n",
              "      <td>0.1068</td>\n",
              "      <td>70</td>\n",
              "      <td>17.70</td>\n",
              "      <td>Amor Asteroid</td>\n",
              "      <td>False</td>\n",
              "    </tr>\n",
              "  </tbody>\n",
              "</table>\n",
              "</div>\n",
              "    <div class=\"colab-df-buttons\">\n",
              "\n",
              "  <div class=\"colab-df-container\">\n",
              "    <button class=\"colab-df-convert\" onclick=\"convertToInteractive('df-35aa4fef-b97d-420a-805d-749cf136d740')\"\n",
              "            title=\"Convert this dataframe to an interactive table.\"\n",
              "            style=\"display:none;\">\n",
              "\n",
              "  <svg xmlns=\"http://www.w3.org/2000/svg\" height=\"24px\" viewBox=\"0 -960 960 960\">\n",
              "    <path d=\"M120-120v-720h720v720H120Zm60-500h600v-160H180v160Zm220 220h160v-160H400v160Zm0 220h160v-160H400v160ZM180-400h160v-160H180v160Zm440 0h160v-160H620v160ZM180-180h160v-160H180v160Zm440 0h160v-160H620v160Z\"/>\n",
              "  </svg>\n",
              "    </button>\n",
              "\n",
              "  <style>\n",
              "    .colab-df-container {\n",
              "      display:flex;\n",
              "      gap: 12px;\n",
              "    }\n",
              "\n",
              "    .colab-df-convert {\n",
              "      background-color: #E8F0FE;\n",
              "      border: none;\n",
              "      border-radius: 50%;\n",
              "      cursor: pointer;\n",
              "      display: none;\n",
              "      fill: #1967D2;\n",
              "      height: 32px;\n",
              "      padding: 0 0 0 0;\n",
              "      width: 32px;\n",
              "    }\n",
              "\n",
              "    .colab-df-convert:hover {\n",
              "      background-color: #E2EBFA;\n",
              "      box-shadow: 0px 1px 2px rgba(60, 64, 67, 0.3), 0px 1px 3px 1px rgba(60, 64, 67, 0.15);\n",
              "      fill: #174EA6;\n",
              "    }\n",
              "\n",
              "    .colab-df-buttons div {\n",
              "      margin-bottom: 4px;\n",
              "    }\n",
              "\n",
              "    [theme=dark] .colab-df-convert {\n",
              "      background-color: #3B4455;\n",
              "      fill: #D2E3FC;\n",
              "    }\n",
              "\n",
              "    [theme=dark] .colab-df-convert:hover {\n",
              "      background-color: #434B5C;\n",
              "      box-shadow: 0px 1px 3px 1px rgba(0, 0, 0, 0.15);\n",
              "      filter: drop-shadow(0px 1px 2px rgba(0, 0, 0, 0.3));\n",
              "      fill: #FFFFFF;\n",
              "    }\n",
              "  </style>\n",
              "\n",
              "    <script>\n",
              "      const buttonEl =\n",
              "        document.querySelector('#df-35aa4fef-b97d-420a-805d-749cf136d740 button.colab-df-convert');\n",
              "      buttonEl.style.display =\n",
              "        google.colab.kernel.accessAllowed ? 'block' : 'none';\n",
              "\n",
              "      async function convertToInteractive(key) {\n",
              "        const element = document.querySelector('#df-35aa4fef-b97d-420a-805d-749cf136d740');\n",
              "        const dataTable =\n",
              "          await google.colab.kernel.invokeFunction('convertToInteractive',\n",
              "                                                    [key], {});\n",
              "        if (!dataTable) return;\n",
              "\n",
              "        const docLinkHtml = 'Like what you see? Visit the ' +\n",
              "          '<a target=\"_blank\" href=https://colab.research.google.com/notebooks/data_table.ipynb>data table notebook</a>'\n",
              "          + ' to learn more about interactive tables.';\n",
              "        element.innerHTML = '';\n",
              "        dataTable['output_type'] = 'display_data';\n",
              "        await google.colab.output.renderOutput(dataTable, element);\n",
              "        const docLink = document.createElement('div');\n",
              "        docLink.innerHTML = docLinkHtml;\n",
              "        element.appendChild(docLink);\n",
              "      }\n",
              "    </script>\n",
              "  </div>\n",
              "\n",
              "\n",
              "<div id=\"df-07f5c739-129e-4e6c-88c4-9133819f9de1\">\n",
              "  <button class=\"colab-df-quickchart\" onclick=\"quickchart('df-07f5c739-129e-4e6c-88c4-9133819f9de1')\"\n",
              "            title=\"Suggest charts\"\n",
              "            style=\"display:none;\">\n",
              "\n",
              "<svg xmlns=\"http://www.w3.org/2000/svg\" height=\"24px\"viewBox=\"0 0 24 24\"\n",
              "     width=\"24px\">\n",
              "    <g>\n",
              "        <path d=\"M19 3H5c-1.1 0-2 .9-2 2v14c0 1.1.9 2 2 2h14c1.1 0 2-.9 2-2V5c0-1.1-.9-2-2-2zM9 17H7v-7h2v7zm4 0h-2V7h2v10zm4 0h-2v-4h2v4z\"/>\n",
              "    </g>\n",
              "</svg>\n",
              "  </button>\n",
              "\n",
              "<style>\n",
              "  .colab-df-quickchart {\n",
              "      --bg-color: #E8F0FE;\n",
              "      --fill-color: #1967D2;\n",
              "      --hover-bg-color: #E2EBFA;\n",
              "      --hover-fill-color: #174EA6;\n",
              "      --disabled-fill-color: #AAA;\n",
              "      --disabled-bg-color: #DDD;\n",
              "  }\n",
              "\n",
              "  [theme=dark] .colab-df-quickchart {\n",
              "      --bg-color: #3B4455;\n",
              "      --fill-color: #D2E3FC;\n",
              "      --hover-bg-color: #434B5C;\n",
              "      --hover-fill-color: #FFFFFF;\n",
              "      --disabled-bg-color: #3B4455;\n",
              "      --disabled-fill-color: #666;\n",
              "  }\n",
              "\n",
              "  .colab-df-quickchart {\n",
              "    background-color: var(--bg-color);\n",
              "    border: none;\n",
              "    border-radius: 50%;\n",
              "    cursor: pointer;\n",
              "    display: none;\n",
              "    fill: var(--fill-color);\n",
              "    height: 32px;\n",
              "    padding: 0;\n",
              "    width: 32px;\n",
              "  }\n",
              "\n",
              "  .colab-df-quickchart:hover {\n",
              "    background-color: var(--hover-bg-color);\n",
              "    box-shadow: 0 1px 2px rgba(60, 64, 67, 0.3), 0 1px 3px 1px rgba(60, 64, 67, 0.15);\n",
              "    fill: var(--button-hover-fill-color);\n",
              "  }\n",
              "\n",
              "  .colab-df-quickchart-complete:disabled,\n",
              "  .colab-df-quickchart-complete:disabled:hover {\n",
              "    background-color: var(--disabled-bg-color);\n",
              "    fill: var(--disabled-fill-color);\n",
              "    box-shadow: none;\n",
              "  }\n",
              "\n",
              "  .colab-df-spinner {\n",
              "    border: 2px solid var(--fill-color);\n",
              "    border-color: transparent;\n",
              "    border-bottom-color: var(--fill-color);\n",
              "    animation:\n",
              "      spin 1s steps(1) infinite;\n",
              "  }\n",
              "\n",
              "  @keyframes spin {\n",
              "    0% {\n",
              "      border-color: transparent;\n",
              "      border-bottom-color: var(--fill-color);\n",
              "      border-left-color: var(--fill-color);\n",
              "    }\n",
              "    20% {\n",
              "      border-color: transparent;\n",
              "      border-left-color: var(--fill-color);\n",
              "      border-top-color: var(--fill-color);\n",
              "    }\n",
              "    30% {\n",
              "      border-color: transparent;\n",
              "      border-left-color: var(--fill-color);\n",
              "      border-top-color: var(--fill-color);\n",
              "      border-right-color: var(--fill-color);\n",
              "    }\n",
              "    40% {\n",
              "      border-color: transparent;\n",
              "      border-right-color: var(--fill-color);\n",
              "      border-top-color: var(--fill-color);\n",
              "    }\n",
              "    60% {\n",
              "      border-color: transparent;\n",
              "      border-right-color: var(--fill-color);\n",
              "    }\n",
              "    80% {\n",
              "      border-color: transparent;\n",
              "      border-right-color: var(--fill-color);\n",
              "      border-bottom-color: var(--fill-color);\n",
              "    }\n",
              "    90% {\n",
              "      border-color: transparent;\n",
              "      border-bottom-color: var(--fill-color);\n",
              "    }\n",
              "  }\n",
              "</style>\n",
              "\n",
              "  <script>\n",
              "    async function quickchart(key) {\n",
              "      const quickchartButtonEl =\n",
              "        document.querySelector('#' + key + ' button');\n",
              "      quickchartButtonEl.disabled = true;  // To prevent multiple clicks.\n",
              "      quickchartButtonEl.classList.add('colab-df-spinner');\n",
              "      try {\n",
              "        const charts = await google.colab.kernel.invokeFunction(\n",
              "            'suggestCharts', [key], {});\n",
              "      } catch (error) {\n",
              "        console.error('Error during call to suggestCharts:', error);\n",
              "      }\n",
              "      quickchartButtonEl.classList.remove('colab-df-spinner');\n",
              "      quickchartButtonEl.classList.add('colab-df-quickchart-complete');\n",
              "    }\n",
              "    (() => {\n",
              "      let quickchartButtonEl =\n",
              "        document.querySelector('#df-07f5c739-129e-4e6c-88c4-9133819f9de1 button');\n",
              "      quickchartButtonEl.style.display =\n",
              "        google.colab.kernel.accessAllowed ? 'block' : 'none';\n",
              "    })();\n",
              "  </script>\n",
              "</div>\n",
              "\n",
              "    </div>\n",
              "  </div>\n"
            ],
            "application/vnd.google.colaboratory.intrinsic+json": {
              "type": "dataframe",
              "variable_name": "df",
              "summary": "{\n  \"name\": \"df\",\n  \"rows\": 15635,\n  \"fields\": [\n    {\n      \"column\": \"Object Name\",\n      \"properties\": {\n        \"dtype\": \"string\",\n        \"num_unique_values\": 15635,\n        \"samples\": [\n          \"(2015\\u00a0TW144)\",\n          \"(2012\\u00a0FR52)\",\n          \"(2012\\u00a0VE37)\"\n        ],\n        \"semantic_type\": \"\",\n        \"description\": \"\"\n      }\n    },\n    {\n      \"column\": \"Epoch (TDB)\",\n      \"properties\": {\n        \"dtype\": \"number\",\n        \"std\": 1167,\n        \"min\": 44221,\n        \"max\": 57800,\n        \"num_unique_values\": 1834,\n        \"samples\": [\n          54566,\n          53380,\n          55635\n        ],\n        \"semantic_type\": \"\",\n        \"description\": \"\"\n      }\n    },\n    {\n      \"column\": \"Orbit Axis (AU)\",\n      \"properties\": {\n        \"dtype\": \"number\",\n        \"std\": 0.6032289191357428,\n        \"min\": 0.5476,\n        \"max\": 21.3954,\n        \"num_unique_values\": 10927,\n        \"samples\": [\n          2.7303,\n          1.3424,\n          2.0274\n        ],\n        \"semantic_type\": \"\",\n        \"description\": \"\"\n      }\n    },\n    {\n      \"column\": \"Orbit Eccentricity\",\n      \"properties\": {\n        \"dtype\": \"number\",\n        \"std\": 0.1760004948818007,\n        \"min\": 0.0044,\n        \"max\": 0.9695,\n        \"num_unique_values\": 6279,\n        \"samples\": [\n          0.7652,\n          0.2392,\n          0.1673\n        ],\n        \"semantic_type\": \"\",\n        \"description\": \"\"\n      }\n    },\n    {\n      \"column\": \"Orbit Inclination (deg)\",\n      \"properties\": {\n        \"dtype\": \"number\",\n        \"std\": 11.30323063575997,\n        \"min\": 0.0147,\n        \"max\": 154.3751,\n        \"num_unique_values\": 15170,\n        \"samples\": [\n          2.5338,\n          7.7022,\n          10.2177\n        ],\n        \"semantic_type\": \"\",\n        \"description\": \"\"\n      }\n    },\n    {\n      \"column\": \"Perihelion Argument (deg)\",\n      \"properties\": {\n        \"dtype\": \"number\",\n        \"std\": 103.86248010041399,\n        \"min\": 0.0081,\n        \"max\": 359.9942,\n        \"num_unique_values\": 15607,\n        \"samples\": [\n          182.3345,\n          16.0513,\n          284.1627\n        ],\n        \"semantic_type\": \"\",\n        \"description\": \"\"\n      }\n    },\n    {\n      \"column\": \"Node Longitude (deg)\",\n      \"properties\": {\n        \"dtype\": \"number\",\n        \"std\": 103.38414300235723,\n        \"min\": 0.007,\n        \"max\": 359.9981,\n        \"num_unique_values\": 15597,\n        \"samples\": [\n          2.2932,\n          314.1818,\n          250.6956\n        ],\n        \"semantic_type\": \"\",\n        \"description\": \"\"\n      }\n    },\n    {\n      \"column\": \"Mean Anomoly (deg)\",\n      \"properties\": {\n        \"dtype\": \"number\",\n        \"std\": 116.12306525995936,\n        \"min\": 0.0031,\n        \"max\": 359.9982,\n        \"num_unique_values\": 15605,\n        \"samples\": [\n          181.0428,\n          241.2238,\n          162.5287\n        ],\n        \"semantic_type\": \"\",\n        \"description\": \"\"\n      }\n    },\n    {\n      \"column\": \"Perihelion Distance (AU)\",\n      \"properties\": {\n        \"dtype\": \"number\",\n        \"std\": 0.2403085999495684,\n        \"min\": 0.0707,\n        \"max\": 1.3,\n        \"num_unique_values\": 7206,\n        \"samples\": [\n          1.1822,\n          0.8175,\n          1.2863\n        ],\n        \"semantic_type\": \"\",\n        \"description\": \"\"\n      }\n    },\n    {\n      \"column\": \"Aphelion Distance (AU)\",\n      \"properties\": {\n        \"dtype\": \"number\",\n        \"std\": 1.1426589894515053,\n        \"min\": 0.8,\n        \"max\": 41.54,\n        \"num_unique_values\": 519,\n        \"samples\": [\n          2.25,\n          3.35,\n          1.66\n        ],\n        \"semantic_type\": \"\",\n        \"description\": \"\"\n      }\n    },\n    {\n      \"column\": \"Orbital Period (yr)\",\n      \"properties\": {\n        \"dtype\": \"number\",\n        \"std\": 1.5175878273971026,\n        \"min\": 0.41,\n        \"max\": 98.97,\n        \"num_unique_values\": 600,\n        \"samples\": [\n          2.31,\n          4.78,\n          6.19\n        ],\n        \"semantic_type\": \"\",\n        \"description\": \"\"\n      }\n    },\n    {\n      \"column\": \"Minimum Orbit Intersection Distance (AU)\",\n      \"properties\": {\n        \"dtype\": \"number\",\n        \"std\": 0.10593687276720995,\n        \"min\": 0.0,\n        \"max\": 0.7069,\n        \"num_unique_values\": 3449,\n        \"samples\": [\n          0.1603,\n          0.3513,\n          0.1955\n        ],\n        \"semantic_type\": \"\",\n        \"description\": \"\"\n      }\n    },\n    {\n      \"column\": \"Orbital Reference\",\n      \"properties\": {\n        \"dtype\": \"number\",\n        \"std\": 33,\n        \"min\": 1,\n        \"max\": 635,\n        \"num_unique_values\": 262,\n        \"samples\": [\n          4,\n          193,\n          212\n        ],\n        \"semantic_type\": \"\",\n        \"description\": \"\"\n      }\n    },\n    {\n      \"column\": \"Asteroid Magnitude\",\n      \"properties\": {\n        \"dtype\": \"number\",\n        \"std\": 3.01600178280764,\n        \"min\": 9.45,\n        \"max\": 33.2,\n        \"num_unique_values\": 477,\n        \"samples\": [\n          26.86,\n          15.21,\n          26.5\n        ],\n        \"semantic_type\": \"\",\n        \"description\": \"\"\n      }\n    },\n    {\n      \"column\": \"Classification\",\n      \"properties\": {\n        \"dtype\": \"category\",\n        \"num_unique_values\": 4,\n        \"samples\": [\n          \"Apollo Asteroid\",\n          \"Apohele Asteroid\",\n          \"Amor Asteroid\"\n        ],\n        \"semantic_type\": \"\",\n        \"description\": \"\"\n      }\n    },\n    {\n      \"column\": \"Hazardous\",\n      \"properties\": {\n        \"dtype\": \"boolean\",\n        \"num_unique_values\": 2,\n        \"samples\": [\n          true,\n          false\n        ],\n        \"semantic_type\": \"\",\n        \"description\": \"\"\n      }\n    }\n  ]\n}"
            }
          },
          "metadata": {},
          "execution_count": 59
        }
      ]
    },
    {
      "cell_type": "code",
      "source": [
        "df.isnull().sum() # checking if code is clean."
      ],
      "metadata": {
        "colab": {
          "base_uri": "https://localhost:8080/"
        },
        "id": "gkZKY3aFV8aQ",
        "outputId": "26766cf8-1544-4cd8-8d35-4b768fc021b7"
      },
      "execution_count": null,
      "outputs": [
        {
          "output_type": "execute_result",
          "data": {
            "text/plain": [
              "Object Name                                 0\n",
              "Epoch (TDB)                                 0\n",
              "Orbit Axis (AU)                             0\n",
              "Orbit Eccentricity                          0\n",
              "Orbit Inclination (deg)                     0\n",
              "Perihelion Argument (deg)                   0\n",
              "Node Longitude (deg)                        0\n",
              "Mean Anomoly (deg)                          0\n",
              "Perihelion Distance (AU)                    0\n",
              "Aphelion Distance (AU)                      0\n",
              "Orbital Period (yr)                         0\n",
              "Minimum Orbit Intersection Distance (AU)    0\n",
              "Orbital Reference                           0\n",
              "Asteroid Magnitude                          1\n",
              "Classification                              0\n",
              "Hazardous                                   0\n",
              "dtype: int64"
            ]
          },
          "metadata": {},
          "execution_count": 60
        }
      ]
    },
    {
      "cell_type": "code",
      "source": [
        "df['Asteroid Magnitude'].value_counts() # behavior of column"
      ],
      "metadata": {
        "colab": {
          "base_uri": "https://localhost:8080/"
        },
        "id": "HaOR77a-WDxT",
        "outputId": "fe1c404e-e5e7-413c-a7bb-7e0583c3f768"
      },
      "execution_count": null,
      "outputs": [
        {
          "output_type": "execute_result",
          "data": {
            "text/plain": [
              "Asteroid Magnitude\n",
              "20.70    204\n",
              "21.00    198\n",
              "20.80    194\n",
              "20.00    188\n",
              "24.40    187\n",
              "        ... \n",
              "22.51      1\n",
              "27.91      1\n",
              "25.21      1\n",
              "26.87      1\n",
              "24.74      1\n",
              "Name: count, Length: 477, dtype: int64"
            ]
          },
          "metadata": {},
          "execution_count": 61
        }
      ]
    },
    {
      "cell_type": "code",
      "source": [
        "# filling that one value with the mean\n",
        "df['Asteroid Magnitude'] = df['Asteroid Magnitude'].fillna(df['Asteroid Magnitude'].mean())\n",
        "df['Asteroid Magnitude'].isnull().sum() # checking it worked"
      ],
      "metadata": {
        "colab": {
          "base_uri": "https://localhost:8080/"
        },
        "id": "O9THfvC4WIbV",
        "outputId": "a1ca8aee-c173-47ea-c1e6-d58b9f105dd4"
      },
      "execution_count": null,
      "outputs": [
        {
          "output_type": "execute_result",
          "data": {
            "text/plain": [
              "0"
            ]
          },
          "metadata": {},
          "execution_count": 62
        }
      ]
    },
    {
      "cell_type": "code",
      "source": [
        "df.isnull().sum() # rechecking one last time"
      ],
      "metadata": {
        "colab": {
          "base_uri": "https://localhost:8080/"
        },
        "id": "i47mg7AUW0Cg",
        "outputId": "df367efb-1afb-4651-b9c2-1bc64a2e0aac"
      },
      "execution_count": null,
      "outputs": [
        {
          "output_type": "execute_result",
          "data": {
            "text/plain": [
              "Object Name                                 0\n",
              "Epoch (TDB)                                 0\n",
              "Orbit Axis (AU)                             0\n",
              "Orbit Eccentricity                          0\n",
              "Orbit Inclination (deg)                     0\n",
              "Perihelion Argument (deg)                   0\n",
              "Node Longitude (deg)                        0\n",
              "Mean Anomoly (deg)                          0\n",
              "Perihelion Distance (AU)                    0\n",
              "Aphelion Distance (AU)                      0\n",
              "Orbital Period (yr)                         0\n",
              "Minimum Orbit Intersection Distance (AU)    0\n",
              "Orbital Reference                           0\n",
              "Asteroid Magnitude                          0\n",
              "Classification                              0\n",
              "Hazardous                                   0\n",
              "dtype: int64"
            ]
          },
          "metadata": {},
          "execution_count": 63
        }
      ]
    },
    {
      "cell_type": "code",
      "source": [
        "df.info()"
      ],
      "metadata": {
        "colab": {
          "base_uri": "https://localhost:8080/"
        },
        "id": "kUpR4MAfW3cd",
        "outputId": "c1a2e4c7-ea0d-4b9c-fe52-5c55ace7e58f"
      },
      "execution_count": null,
      "outputs": [
        {
          "output_type": "stream",
          "name": "stdout",
          "text": [
            "<class 'pandas.core.frame.DataFrame'>\n",
            "RangeIndex: 15635 entries, 0 to 15634\n",
            "Data columns (total 16 columns):\n",
            " #   Column                                    Non-Null Count  Dtype  \n",
            "---  ------                                    --------------  -----  \n",
            " 0   Object Name                               15635 non-null  object \n",
            " 1   Epoch (TDB)                               15635 non-null  int64  \n",
            " 2   Orbit Axis (AU)                           15635 non-null  float64\n",
            " 3   Orbit Eccentricity                        15635 non-null  float64\n",
            " 4   Orbit Inclination (deg)                   15635 non-null  float64\n",
            " 5   Perihelion Argument (deg)                 15635 non-null  float64\n",
            " 6   Node Longitude (deg)                      15635 non-null  float64\n",
            " 7   Mean Anomoly (deg)                        15635 non-null  float64\n",
            " 8   Perihelion Distance (AU)                  15635 non-null  float64\n",
            " 9   Aphelion Distance (AU)                    15635 non-null  float64\n",
            " 10  Orbital Period (yr)                       15635 non-null  float64\n",
            " 11  Minimum Orbit Intersection Distance (AU)  15635 non-null  float64\n",
            " 12  Orbital Reference                         15635 non-null  int64  \n",
            " 13  Asteroid Magnitude                        15635 non-null  float64\n",
            " 14  Classification                            15635 non-null  object \n",
            " 15  Hazardous                                 15635 non-null  bool   \n",
            "dtypes: bool(1), float64(11), int64(2), object(2)\n",
            "memory usage: 1.8+ MB\n"
          ]
        }
      ]
    },
    {
      "cell_type": "code",
      "source": [
        "df['Classification'].value_counts() # type of asteroid"
      ],
      "metadata": {
        "colab": {
          "base_uri": "https://localhost:8080/"
        },
        "id": "RRsnDMaVXAFm",
        "outputId": "794dbf38-af6d-49af-fe77-940c8c3ce0ed"
      },
      "execution_count": null,
      "outputs": [
        {
          "output_type": "execute_result",
          "data": {
            "text/plain": [
              "Classification\n",
              "Apollo Asteroid     8460\n",
              "Amor Asteroid       6017\n",
              "Aten Asteroid       1142\n",
              "Apohele Asteroid      16\n",
              "Name: count, dtype: int64"
            ]
          },
          "metadata": {},
          "execution_count": 65
        }
      ]
    },
    {
      "cell_type": "code",
      "source": [
        "df['Hazardous'].value_counts() # our target"
      ],
      "metadata": {
        "colab": {
          "base_uri": "https://localhost:8080/"
        },
        "id": "5GByIstwXFd3",
        "outputId": "63075c35-97d5-424b-86d1-190bf0c9d2d5"
      },
      "execution_count": null,
      "outputs": [
        {
          "output_type": "execute_result",
          "data": {
            "text/plain": [
              "Hazardous\n",
              "False    13856\n",
              "True      1779\n",
              "Name: count, dtype: int64"
            ]
          },
          "metadata": {},
          "execution_count": 66
        }
      ]
    },
    {
      "cell_type": "code",
      "source": [
        "# target = classification, let's use KNN Classifier"
      ],
      "metadata": {
        "id": "0DnmLfDyXQYb"
      },
      "execution_count": null,
      "outputs": []
    },
    {
      "cell_type": "code",
      "source": [
        "# needed libraries\n",
        "from sklearn.model_selection import train_test_split # split data\n",
        "from sklearn.neighbors import KNeighborsClassifier # KNN\n",
        "from sklearn.metrics import accuracy_score # accuracy\n",
        "from sklearn.preprocessing import StandardScaler # scaling\n",
        "from sklearn.preprocessing import LabelEncoder"
      ],
      "metadata": {
        "id": "1Bdtmis0Xe_a"
      },
      "execution_count": null,
      "outputs": []
    },
    {
      "cell_type": "code",
      "source": [
        "data = df.copy()\n",
        "data.info()"
      ],
      "metadata": {
        "colab": {
          "base_uri": "https://localhost:8080/"
        },
        "id": "DKOanJSua4vG",
        "outputId": "750ba1a3-36bd-4f9e-817a-b9fdfcb53899"
      },
      "execution_count": null,
      "outputs": [
        {
          "output_type": "stream",
          "name": "stdout",
          "text": [
            "<class 'pandas.core.frame.DataFrame'>\n",
            "RangeIndex: 15635 entries, 0 to 15634\n",
            "Data columns (total 16 columns):\n",
            " #   Column                                    Non-Null Count  Dtype  \n",
            "---  ------                                    --------------  -----  \n",
            " 0   Object Name                               15635 non-null  object \n",
            " 1   Epoch (TDB)                               15635 non-null  int64  \n",
            " 2   Orbit Axis (AU)                           15635 non-null  float64\n",
            " 3   Orbit Eccentricity                        15635 non-null  float64\n",
            " 4   Orbit Inclination (deg)                   15635 non-null  float64\n",
            " 5   Perihelion Argument (deg)                 15635 non-null  float64\n",
            " 6   Node Longitude (deg)                      15635 non-null  float64\n",
            " 7   Mean Anomoly (deg)                        15635 non-null  float64\n",
            " 8   Perihelion Distance (AU)                  15635 non-null  float64\n",
            " 9   Aphelion Distance (AU)                    15635 non-null  float64\n",
            " 10  Orbital Period (yr)                       15635 non-null  float64\n",
            " 11  Minimum Orbit Intersection Distance (AU)  15635 non-null  float64\n",
            " 12  Orbital Reference                         15635 non-null  int64  \n",
            " 13  Asteroid Magnitude                        15635 non-null  float64\n",
            " 14  Classification                            15635 non-null  object \n",
            " 15  Hazardous                                 15635 non-null  bool   \n",
            "dtypes: bool(1), float64(11), int64(2), object(2)\n",
            "memory usage: 1.8+ MB\n"
          ]
        }
      ]
    },
    {
      "cell_type": "code",
      "source": [
        "lbl = LabelEncoder()\n",
        "cols = ['Classification', 'Hazardous']\n",
        "data[cols] = data[cols].apply(lbl.fit_transform)\n",
        "data.info()"
      ],
      "metadata": {
        "colab": {
          "base_uri": "https://localhost:8080/"
        },
        "id": "kkYD2DyHbh67",
        "outputId": "8c904127-ddd2-4b91-e585-4409169a0bff"
      },
      "execution_count": null,
      "outputs": [
        {
          "output_type": "stream",
          "name": "stdout",
          "text": [
            "<class 'pandas.core.frame.DataFrame'>\n",
            "RangeIndex: 15635 entries, 0 to 15634\n",
            "Data columns (total 16 columns):\n",
            " #   Column                                    Non-Null Count  Dtype  \n",
            "---  ------                                    --------------  -----  \n",
            " 0   Object Name                               15635 non-null  object \n",
            " 1   Epoch (TDB)                               15635 non-null  int64  \n",
            " 2   Orbit Axis (AU)                           15635 non-null  float64\n",
            " 3   Orbit Eccentricity                        15635 non-null  float64\n",
            " 4   Orbit Inclination (deg)                   15635 non-null  float64\n",
            " 5   Perihelion Argument (deg)                 15635 non-null  float64\n",
            " 6   Node Longitude (deg)                      15635 non-null  float64\n",
            " 7   Mean Anomoly (deg)                        15635 non-null  float64\n",
            " 8   Perihelion Distance (AU)                  15635 non-null  float64\n",
            " 9   Aphelion Distance (AU)                    15635 non-null  float64\n",
            " 10  Orbital Period (yr)                       15635 non-null  float64\n",
            " 11  Minimum Orbit Intersection Distance (AU)  15635 non-null  float64\n",
            " 12  Orbital Reference                         15635 non-null  int64  \n",
            " 13  Asteroid Magnitude                        15635 non-null  float64\n",
            " 14  Classification                            15635 non-null  int64  \n",
            " 15  Hazardous                                 15635 non-null  int64  \n",
            "dtypes: float64(11), int64(4), object(1)\n",
            "memory usage: 1.9+ MB\n"
          ]
        }
      ]
    },
    {
      "cell_type": "code",
      "source": [
        "# downloading to use in top down\n",
        "from google.colab import files\n",
        "df.to_csv('Clean-HazardousAsteroid.csv', index = False)\n",
        "files.download('Clean-HazardousAsteroid.csv')"
      ],
      "metadata": {
        "colab": {
          "base_uri": "https://localhost:8080/",
          "height": 17
        },
        "id": "YZeczAaNhxzh",
        "outputId": "49d7edeb-222a-4869-8927-dc3209335c24"
      },
      "execution_count": null,
      "outputs": [
        {
          "output_type": "display_data",
          "data": {
            "text/plain": [
              "<IPython.core.display.Javascript object>"
            ],
            "application/javascript": [
              "\n",
              "    async function download(id, filename, size) {\n",
              "      if (!google.colab.kernel.accessAllowed) {\n",
              "        return;\n",
              "      }\n",
              "      const div = document.createElement('div');\n",
              "      const label = document.createElement('label');\n",
              "      label.textContent = `Downloading \"${filename}\": `;\n",
              "      div.appendChild(label);\n",
              "      const progress = document.createElement('progress');\n",
              "      progress.max = size;\n",
              "      div.appendChild(progress);\n",
              "      document.body.appendChild(div);\n",
              "\n",
              "      const buffers = [];\n",
              "      let downloaded = 0;\n",
              "\n",
              "      const channel = await google.colab.kernel.comms.open(id);\n",
              "      // Send a message to notify the kernel that we're ready.\n",
              "      channel.send({})\n",
              "\n",
              "      for await (const message of channel.messages) {\n",
              "        // Send a message to notify the kernel that we're ready.\n",
              "        channel.send({})\n",
              "        if (message.buffers) {\n",
              "          for (const buffer of message.buffers) {\n",
              "            buffers.push(buffer);\n",
              "            downloaded += buffer.byteLength;\n",
              "            progress.value = downloaded;\n",
              "          }\n",
              "        }\n",
              "      }\n",
              "      const blob = new Blob(buffers, {type: 'application/binary'});\n",
              "      const a = document.createElement('a');\n",
              "      a.href = window.URL.createObjectURL(blob);\n",
              "      a.download = filename;\n",
              "      div.appendChild(a);\n",
              "      a.click();\n",
              "      div.remove();\n",
              "    }\n",
              "  "
            ]
          },
          "metadata": {}
        },
        {
          "output_type": "display_data",
          "data": {
            "text/plain": [
              "<IPython.core.display.Javascript object>"
            ],
            "application/javascript": [
              "download(\"download_27dda1c0-1e88-46e4-945f-6d248426fdd1\", \"Clean-HazardousAsteroid.csv\", 1856185)"
            ]
          },
          "metadata": {}
        }
      ]
    },
    {
      "cell_type": "code",
      "source": [
        "# the scaled data\n",
        "data.to_csv('Scaled-HazardousAsteroid.csv', index = False)\n",
        "files.download('Scaled-HazardousAsteroid.csv')"
      ],
      "metadata": {
        "colab": {
          "base_uri": "https://localhost:8080/",
          "height": 17
        },
        "id": "GmKkj9xZiWm8",
        "outputId": "425b3a69-4571-4d77-f24a-1a5775766ca3"
      },
      "execution_count": null,
      "outputs": [
        {
          "output_type": "display_data",
          "data": {
            "text/plain": [
              "<IPython.core.display.Javascript object>"
            ],
            "application/javascript": [
              "\n",
              "    async function download(id, filename, size) {\n",
              "      if (!google.colab.kernel.accessAllowed) {\n",
              "        return;\n",
              "      }\n",
              "      const div = document.createElement('div');\n",
              "      const label = document.createElement('label');\n",
              "      label.textContent = `Downloading \"${filename}\": `;\n",
              "      div.appendChild(label);\n",
              "      const progress = document.createElement('progress');\n",
              "      progress.max = size;\n",
              "      div.appendChild(progress);\n",
              "      document.body.appendChild(div);\n",
              "\n",
              "      const buffers = [];\n",
              "      let downloaded = 0;\n",
              "\n",
              "      const channel = await google.colab.kernel.comms.open(id);\n",
              "      // Send a message to notify the kernel that we're ready.\n",
              "      channel.send({})\n",
              "\n",
              "      for await (const message of channel.messages) {\n",
              "        // Send a message to notify the kernel that we're ready.\n",
              "        channel.send({})\n",
              "        if (message.buffers) {\n",
              "          for (const buffer of message.buffers) {\n",
              "            buffers.push(buffer);\n",
              "            downloaded += buffer.byteLength;\n",
              "            progress.value = downloaded;\n",
              "          }\n",
              "        }\n",
              "      }\n",
              "      const blob = new Blob(buffers, {type: 'application/binary'});\n",
              "      const a = document.createElement('a');\n",
              "      a.href = window.URL.createObjectURL(blob);\n",
              "      a.download = filename;\n",
              "      div.appendChild(a);\n",
              "      a.click();\n",
              "      div.remove();\n",
              "    }\n",
              "  "
            ]
          },
          "metadata": {}
        },
        {
          "output_type": "display_data",
          "data": {
            "text/plain": [
              "<IPython.core.display.Javascript object>"
            ],
            "application/javascript": [
              "download(\"download_908a8654-fcf7-4696-941c-0a7ff1430d9e\", \"Scaled-HazardousAsteroid.csv\", 1590836)"
            ]
          },
          "metadata": {}
        }
      ]
    },
    {
      "cell_type": "code",
      "source": [
        "# dividing the features & target\n",
        "X = data.drop(['Object Name', 'Hazardous'], axis = 1)\n",
        "y = data['Hazardous']"
      ],
      "metadata": {
        "id": "w8WVR6V0XshC"
      },
      "execution_count": null,
      "outputs": []
    },
    {
      "cell_type": "code",
      "source": [
        "# remembering what we're working with\n",
        "mlflow.log_param('target', ['Hazardous'])\n",
        "mlflow.log_param('dropped data', ['Object Name'])"
      ],
      "metadata": {
        "colab": {
          "base_uri": "https://localhost:8080/"
        },
        "id": "CU740pZdn2MY",
        "outputId": "36a00545-c054-4f4b-fac9-93e8b290ade8"
      },
      "execution_count": null,
      "outputs": [
        {
          "output_type": "execute_result",
          "data": {
            "text/plain": [
              "['Object Name']"
            ]
          },
          "metadata": {},
          "execution_count": 74
        }
      ]
    },
    {
      "cell_type": "code",
      "source": [
        "# just checking the splits are good to go"
      ],
      "metadata": {
        "id": "kvmBbUsRb8ZB"
      },
      "execution_count": null,
      "outputs": []
    },
    {
      "cell_type": "code",
      "source": [
        "X.info()"
      ],
      "metadata": {
        "colab": {
          "base_uri": "https://localhost:8080/"
        },
        "id": "9j2WrMUBavNj",
        "outputId": "59bcc302-6c6c-4f5d-8908-f3159f831841"
      },
      "execution_count": null,
      "outputs": [
        {
          "output_type": "stream",
          "name": "stdout",
          "text": [
            "<class 'pandas.core.frame.DataFrame'>\n",
            "RangeIndex: 15635 entries, 0 to 15634\n",
            "Data columns (total 14 columns):\n",
            " #   Column                                    Non-Null Count  Dtype  \n",
            "---  ------                                    --------------  -----  \n",
            " 0   Epoch (TDB)                               15635 non-null  int64  \n",
            " 1   Orbit Axis (AU)                           15635 non-null  float64\n",
            " 2   Orbit Eccentricity                        15635 non-null  float64\n",
            " 3   Orbit Inclination (deg)                   15635 non-null  float64\n",
            " 4   Perihelion Argument (deg)                 15635 non-null  float64\n",
            " 5   Node Longitude (deg)                      15635 non-null  float64\n",
            " 6   Mean Anomoly (deg)                        15635 non-null  float64\n",
            " 7   Perihelion Distance (AU)                  15635 non-null  float64\n",
            " 8   Aphelion Distance (AU)                    15635 non-null  float64\n",
            " 9   Orbital Period (yr)                       15635 non-null  float64\n",
            " 10  Minimum Orbit Intersection Distance (AU)  15635 non-null  float64\n",
            " 11  Orbital Reference                         15635 non-null  int64  \n",
            " 12  Asteroid Magnitude                        15635 non-null  float64\n",
            " 13  Classification                            15635 non-null  int64  \n",
            "dtypes: float64(11), int64(3)\n",
            "memory usage: 1.7 MB\n"
          ]
        }
      ]
    },
    {
      "cell_type": "code",
      "source": [
        "X.head()"
      ],
      "metadata": {
        "colab": {
          "base_uri": "https://localhost:8080/",
          "height": 295
        },
        "id": "PyRY_SL3by73",
        "outputId": "af3aa60f-9bbc-4cbc-bf43-3d63eeab577a"
      },
      "execution_count": null,
      "outputs": [
        {
          "output_type": "execute_result",
          "data": {
            "text/plain": [
              "   Epoch (TDB)  Orbit Axis (AU)  Orbit Eccentricity  Orbit Inclination (deg)  \\\n",
              "0        57800           1.4579              0.2226                  10.8277   \n",
              "1        57800           2.6385              0.5479                  11.5822   \n",
              "2        57800           2.4787              0.5671                   9.3561   \n",
              "3        57800           2.6628              0.5338                  26.6929   \n",
              "4        57800           1.9191              0.4356                  11.8795   \n",
              "\n",
              "   Perihelion Argument (deg)  Node Longitude (deg)  Mean Anomoly (deg)  \\\n",
              "0                   178.8050              304.3265            319.3111   \n",
              "1                   156.1409              183.9204            224.5535   \n",
              "2                   350.3482              110.5444            351.3730   \n",
              "3                   132.4690              215.5551             92.5640   \n",
              "4                    26.6572              171.3448            313.7379   \n",
              "\n",
              "   Perihelion Distance (AU)  Aphelion Distance (AU)  Orbital Period (yr)  \\\n",
              "0                    1.1335                    1.78                 1.76   \n",
              "1                    1.1928                    4.08                 4.29   \n",
              "2                    1.0731                    3.88                 3.90   \n",
              "3                    1.2413                    4.08                 4.35   \n",
              "4                    1.0832                    2.76                 2.66   \n",
              "\n",
              "   Minimum Orbit Intersection Distance (AU)  Orbital Reference  \\\n",
              "0                                    0.1492                598   \n",
              "1                                    0.2004                 78   \n",
              "2                                    0.0925                188   \n",
              "3                                    0.3421                597   \n",
              "4                                    0.1068                 70   \n",
              "\n",
              "   Asteroid Magnitude  Classification  \n",
              "0               11.16               0  \n",
              "1               15.50               0  \n",
              "2               13.40               0  \n",
              "3                9.45               0  \n",
              "4               17.70               0  "
            ],
            "text/html": [
              "\n",
              "  <div id=\"df-da1d808b-25dc-4e62-85f1-497abae70a48\" class=\"colab-df-container\">\n",
              "    <div>\n",
              "<style scoped>\n",
              "    .dataframe tbody tr th:only-of-type {\n",
              "        vertical-align: middle;\n",
              "    }\n",
              "\n",
              "    .dataframe tbody tr th {\n",
              "        vertical-align: top;\n",
              "    }\n",
              "\n",
              "    .dataframe thead th {\n",
              "        text-align: right;\n",
              "    }\n",
              "</style>\n",
              "<table border=\"1\" class=\"dataframe\">\n",
              "  <thead>\n",
              "    <tr style=\"text-align: right;\">\n",
              "      <th></th>\n",
              "      <th>Epoch (TDB)</th>\n",
              "      <th>Orbit Axis (AU)</th>\n",
              "      <th>Orbit Eccentricity</th>\n",
              "      <th>Orbit Inclination (deg)</th>\n",
              "      <th>Perihelion Argument (deg)</th>\n",
              "      <th>Node Longitude (deg)</th>\n",
              "      <th>Mean Anomoly (deg)</th>\n",
              "      <th>Perihelion Distance (AU)</th>\n",
              "      <th>Aphelion Distance (AU)</th>\n",
              "      <th>Orbital Period (yr)</th>\n",
              "      <th>Minimum Orbit Intersection Distance (AU)</th>\n",
              "      <th>Orbital Reference</th>\n",
              "      <th>Asteroid Magnitude</th>\n",
              "      <th>Classification</th>\n",
              "    </tr>\n",
              "  </thead>\n",
              "  <tbody>\n",
              "    <tr>\n",
              "      <th>0</th>\n",
              "      <td>57800</td>\n",
              "      <td>1.4579</td>\n",
              "      <td>0.2226</td>\n",
              "      <td>10.8277</td>\n",
              "      <td>178.8050</td>\n",
              "      <td>304.3265</td>\n",
              "      <td>319.3111</td>\n",
              "      <td>1.1335</td>\n",
              "      <td>1.78</td>\n",
              "      <td>1.76</td>\n",
              "      <td>0.1492</td>\n",
              "      <td>598</td>\n",
              "      <td>11.16</td>\n",
              "      <td>0</td>\n",
              "    </tr>\n",
              "    <tr>\n",
              "      <th>1</th>\n",
              "      <td>57800</td>\n",
              "      <td>2.6385</td>\n",
              "      <td>0.5479</td>\n",
              "      <td>11.5822</td>\n",
              "      <td>156.1409</td>\n",
              "      <td>183.9204</td>\n",
              "      <td>224.5535</td>\n",
              "      <td>1.1928</td>\n",
              "      <td>4.08</td>\n",
              "      <td>4.29</td>\n",
              "      <td>0.2004</td>\n",
              "      <td>78</td>\n",
              "      <td>15.50</td>\n",
              "      <td>0</td>\n",
              "    </tr>\n",
              "    <tr>\n",
              "      <th>2</th>\n",
              "      <td>57800</td>\n",
              "      <td>2.4787</td>\n",
              "      <td>0.5671</td>\n",
              "      <td>9.3561</td>\n",
              "      <td>350.3482</td>\n",
              "      <td>110.5444</td>\n",
              "      <td>351.3730</td>\n",
              "      <td>1.0731</td>\n",
              "      <td>3.88</td>\n",
              "      <td>3.90</td>\n",
              "      <td>0.0925</td>\n",
              "      <td>188</td>\n",
              "      <td>13.40</td>\n",
              "      <td>0</td>\n",
              "    </tr>\n",
              "    <tr>\n",
              "      <th>3</th>\n",
              "      <td>57800</td>\n",
              "      <td>2.6628</td>\n",
              "      <td>0.5338</td>\n",
              "      <td>26.6929</td>\n",
              "      <td>132.4690</td>\n",
              "      <td>215.5551</td>\n",
              "      <td>92.5640</td>\n",
              "      <td>1.2413</td>\n",
              "      <td>4.08</td>\n",
              "      <td>4.35</td>\n",
              "      <td>0.3421</td>\n",
              "      <td>597</td>\n",
              "      <td>9.45</td>\n",
              "      <td>0</td>\n",
              "    </tr>\n",
              "    <tr>\n",
              "      <th>4</th>\n",
              "      <td>57800</td>\n",
              "      <td>1.9191</td>\n",
              "      <td>0.4356</td>\n",
              "      <td>11.8795</td>\n",
              "      <td>26.6572</td>\n",
              "      <td>171.3448</td>\n",
              "      <td>313.7379</td>\n",
              "      <td>1.0832</td>\n",
              "      <td>2.76</td>\n",
              "      <td>2.66</td>\n",
              "      <td>0.1068</td>\n",
              "      <td>70</td>\n",
              "      <td>17.70</td>\n",
              "      <td>0</td>\n",
              "    </tr>\n",
              "  </tbody>\n",
              "</table>\n",
              "</div>\n",
              "    <div class=\"colab-df-buttons\">\n",
              "\n",
              "  <div class=\"colab-df-container\">\n",
              "    <button class=\"colab-df-convert\" onclick=\"convertToInteractive('df-da1d808b-25dc-4e62-85f1-497abae70a48')\"\n",
              "            title=\"Convert this dataframe to an interactive table.\"\n",
              "            style=\"display:none;\">\n",
              "\n",
              "  <svg xmlns=\"http://www.w3.org/2000/svg\" height=\"24px\" viewBox=\"0 -960 960 960\">\n",
              "    <path d=\"M120-120v-720h720v720H120Zm60-500h600v-160H180v160Zm220 220h160v-160H400v160Zm0 220h160v-160H400v160ZM180-400h160v-160H180v160Zm440 0h160v-160H620v160ZM180-180h160v-160H180v160Zm440 0h160v-160H620v160Z\"/>\n",
              "  </svg>\n",
              "    </button>\n",
              "\n",
              "  <style>\n",
              "    .colab-df-container {\n",
              "      display:flex;\n",
              "      gap: 12px;\n",
              "    }\n",
              "\n",
              "    .colab-df-convert {\n",
              "      background-color: #E8F0FE;\n",
              "      border: none;\n",
              "      border-radius: 50%;\n",
              "      cursor: pointer;\n",
              "      display: none;\n",
              "      fill: #1967D2;\n",
              "      height: 32px;\n",
              "      padding: 0 0 0 0;\n",
              "      width: 32px;\n",
              "    }\n",
              "\n",
              "    .colab-df-convert:hover {\n",
              "      background-color: #E2EBFA;\n",
              "      box-shadow: 0px 1px 2px rgba(60, 64, 67, 0.3), 0px 1px 3px 1px rgba(60, 64, 67, 0.15);\n",
              "      fill: #174EA6;\n",
              "    }\n",
              "\n",
              "    .colab-df-buttons div {\n",
              "      margin-bottom: 4px;\n",
              "    }\n",
              "\n",
              "    [theme=dark] .colab-df-convert {\n",
              "      background-color: #3B4455;\n",
              "      fill: #D2E3FC;\n",
              "    }\n",
              "\n",
              "    [theme=dark] .colab-df-convert:hover {\n",
              "      background-color: #434B5C;\n",
              "      box-shadow: 0px 1px 3px 1px rgba(0, 0, 0, 0.15);\n",
              "      filter: drop-shadow(0px 1px 2px rgba(0, 0, 0, 0.3));\n",
              "      fill: #FFFFFF;\n",
              "    }\n",
              "  </style>\n",
              "\n",
              "    <script>\n",
              "      const buttonEl =\n",
              "        document.querySelector('#df-da1d808b-25dc-4e62-85f1-497abae70a48 button.colab-df-convert');\n",
              "      buttonEl.style.display =\n",
              "        google.colab.kernel.accessAllowed ? 'block' : 'none';\n",
              "\n",
              "      async function convertToInteractive(key) {\n",
              "        const element = document.querySelector('#df-da1d808b-25dc-4e62-85f1-497abae70a48');\n",
              "        const dataTable =\n",
              "          await google.colab.kernel.invokeFunction('convertToInteractive',\n",
              "                                                    [key], {});\n",
              "        if (!dataTable) return;\n",
              "\n",
              "        const docLinkHtml = 'Like what you see? Visit the ' +\n",
              "          '<a target=\"_blank\" href=https://colab.research.google.com/notebooks/data_table.ipynb>data table notebook</a>'\n",
              "          + ' to learn more about interactive tables.';\n",
              "        element.innerHTML = '';\n",
              "        dataTable['output_type'] = 'display_data';\n",
              "        await google.colab.output.renderOutput(dataTable, element);\n",
              "        const docLink = document.createElement('div');\n",
              "        docLink.innerHTML = docLinkHtml;\n",
              "        element.appendChild(docLink);\n",
              "      }\n",
              "    </script>\n",
              "  </div>\n",
              "\n",
              "\n",
              "<div id=\"df-a67d322d-6085-492a-8102-e897d794b7b2\">\n",
              "  <button class=\"colab-df-quickchart\" onclick=\"quickchart('df-a67d322d-6085-492a-8102-e897d794b7b2')\"\n",
              "            title=\"Suggest charts\"\n",
              "            style=\"display:none;\">\n",
              "\n",
              "<svg xmlns=\"http://www.w3.org/2000/svg\" height=\"24px\"viewBox=\"0 0 24 24\"\n",
              "     width=\"24px\">\n",
              "    <g>\n",
              "        <path d=\"M19 3H5c-1.1 0-2 .9-2 2v14c0 1.1.9 2 2 2h14c1.1 0 2-.9 2-2V5c0-1.1-.9-2-2-2zM9 17H7v-7h2v7zm4 0h-2V7h2v10zm4 0h-2v-4h2v4z\"/>\n",
              "    </g>\n",
              "</svg>\n",
              "  </button>\n",
              "\n",
              "<style>\n",
              "  .colab-df-quickchart {\n",
              "      --bg-color: #E8F0FE;\n",
              "      --fill-color: #1967D2;\n",
              "      --hover-bg-color: #E2EBFA;\n",
              "      --hover-fill-color: #174EA6;\n",
              "      --disabled-fill-color: #AAA;\n",
              "      --disabled-bg-color: #DDD;\n",
              "  }\n",
              "\n",
              "  [theme=dark] .colab-df-quickchart {\n",
              "      --bg-color: #3B4455;\n",
              "      --fill-color: #D2E3FC;\n",
              "      --hover-bg-color: #434B5C;\n",
              "      --hover-fill-color: #FFFFFF;\n",
              "      --disabled-bg-color: #3B4455;\n",
              "      --disabled-fill-color: #666;\n",
              "  }\n",
              "\n",
              "  .colab-df-quickchart {\n",
              "    background-color: var(--bg-color);\n",
              "    border: none;\n",
              "    border-radius: 50%;\n",
              "    cursor: pointer;\n",
              "    display: none;\n",
              "    fill: var(--fill-color);\n",
              "    height: 32px;\n",
              "    padding: 0;\n",
              "    width: 32px;\n",
              "  }\n",
              "\n",
              "  .colab-df-quickchart:hover {\n",
              "    background-color: var(--hover-bg-color);\n",
              "    box-shadow: 0 1px 2px rgba(60, 64, 67, 0.3), 0 1px 3px 1px rgba(60, 64, 67, 0.15);\n",
              "    fill: var(--button-hover-fill-color);\n",
              "  }\n",
              "\n",
              "  .colab-df-quickchart-complete:disabled,\n",
              "  .colab-df-quickchart-complete:disabled:hover {\n",
              "    background-color: var(--disabled-bg-color);\n",
              "    fill: var(--disabled-fill-color);\n",
              "    box-shadow: none;\n",
              "  }\n",
              "\n",
              "  .colab-df-spinner {\n",
              "    border: 2px solid var(--fill-color);\n",
              "    border-color: transparent;\n",
              "    border-bottom-color: var(--fill-color);\n",
              "    animation:\n",
              "      spin 1s steps(1) infinite;\n",
              "  }\n",
              "\n",
              "  @keyframes spin {\n",
              "    0% {\n",
              "      border-color: transparent;\n",
              "      border-bottom-color: var(--fill-color);\n",
              "      border-left-color: var(--fill-color);\n",
              "    }\n",
              "    20% {\n",
              "      border-color: transparent;\n",
              "      border-left-color: var(--fill-color);\n",
              "      border-top-color: var(--fill-color);\n",
              "    }\n",
              "    30% {\n",
              "      border-color: transparent;\n",
              "      border-left-color: var(--fill-color);\n",
              "      border-top-color: var(--fill-color);\n",
              "      border-right-color: var(--fill-color);\n",
              "    }\n",
              "    40% {\n",
              "      border-color: transparent;\n",
              "      border-right-color: var(--fill-color);\n",
              "      border-top-color: var(--fill-color);\n",
              "    }\n",
              "    60% {\n",
              "      border-color: transparent;\n",
              "      border-right-color: var(--fill-color);\n",
              "    }\n",
              "    80% {\n",
              "      border-color: transparent;\n",
              "      border-right-color: var(--fill-color);\n",
              "      border-bottom-color: var(--fill-color);\n",
              "    }\n",
              "    90% {\n",
              "      border-color: transparent;\n",
              "      border-bottom-color: var(--fill-color);\n",
              "    }\n",
              "  }\n",
              "</style>\n",
              "\n",
              "  <script>\n",
              "    async function quickchart(key) {\n",
              "      const quickchartButtonEl =\n",
              "        document.querySelector('#' + key + ' button');\n",
              "      quickchartButtonEl.disabled = true;  // To prevent multiple clicks.\n",
              "      quickchartButtonEl.classList.add('colab-df-spinner');\n",
              "      try {\n",
              "        const charts = await google.colab.kernel.invokeFunction(\n",
              "            'suggestCharts', [key], {});\n",
              "      } catch (error) {\n",
              "        console.error('Error during call to suggestCharts:', error);\n",
              "      }\n",
              "      quickchartButtonEl.classList.remove('colab-df-spinner');\n",
              "      quickchartButtonEl.classList.add('colab-df-quickchart-complete');\n",
              "    }\n",
              "    (() => {\n",
              "      let quickchartButtonEl =\n",
              "        document.querySelector('#df-a67d322d-6085-492a-8102-e897d794b7b2 button');\n",
              "      quickchartButtonEl.style.display =\n",
              "        google.colab.kernel.accessAllowed ? 'block' : 'none';\n",
              "    })();\n",
              "  </script>\n",
              "</div>\n",
              "\n",
              "    </div>\n",
              "  </div>\n"
            ],
            "application/vnd.google.colaboratory.intrinsic+json": {
              "type": "dataframe",
              "variable_name": "X",
              "summary": "{\n  \"name\": \"X\",\n  \"rows\": 15635,\n  \"fields\": [\n    {\n      \"column\": \"Epoch (TDB)\",\n      \"properties\": {\n        \"dtype\": \"number\",\n        \"std\": 1167,\n        \"min\": 44221,\n        \"max\": 57800,\n        \"num_unique_values\": 1834,\n        \"samples\": [\n          54566,\n          53380,\n          55635\n        ],\n        \"semantic_type\": \"\",\n        \"description\": \"\"\n      }\n    },\n    {\n      \"column\": \"Orbit Axis (AU)\",\n      \"properties\": {\n        \"dtype\": \"number\",\n        \"std\": 0.6032289191357428,\n        \"min\": 0.5476,\n        \"max\": 21.3954,\n        \"num_unique_values\": 10927,\n        \"samples\": [\n          2.7303,\n          1.3424,\n          2.0274\n        ],\n        \"semantic_type\": \"\",\n        \"description\": \"\"\n      }\n    },\n    {\n      \"column\": \"Orbit Eccentricity\",\n      \"properties\": {\n        \"dtype\": \"number\",\n        \"std\": 0.1760004948818007,\n        \"min\": 0.0044,\n        \"max\": 0.9695,\n        \"num_unique_values\": 6279,\n        \"samples\": [\n          0.7652,\n          0.2392,\n          0.1673\n        ],\n        \"semantic_type\": \"\",\n        \"description\": \"\"\n      }\n    },\n    {\n      \"column\": \"Orbit Inclination (deg)\",\n      \"properties\": {\n        \"dtype\": \"number\",\n        \"std\": 11.30323063575997,\n        \"min\": 0.0147,\n        \"max\": 154.3751,\n        \"num_unique_values\": 15170,\n        \"samples\": [\n          2.5338,\n          7.7022,\n          10.2177\n        ],\n        \"semantic_type\": \"\",\n        \"description\": \"\"\n      }\n    },\n    {\n      \"column\": \"Perihelion Argument (deg)\",\n      \"properties\": {\n        \"dtype\": \"number\",\n        \"std\": 103.86248010041399,\n        \"min\": 0.0081,\n        \"max\": 359.9942,\n        \"num_unique_values\": 15607,\n        \"samples\": [\n          182.3345,\n          16.0513,\n          284.1627\n        ],\n        \"semantic_type\": \"\",\n        \"description\": \"\"\n      }\n    },\n    {\n      \"column\": \"Node Longitude (deg)\",\n      \"properties\": {\n        \"dtype\": \"number\",\n        \"std\": 103.38414300235723,\n        \"min\": 0.007,\n        \"max\": 359.9981,\n        \"num_unique_values\": 15597,\n        \"samples\": [\n          2.2932,\n          314.1818,\n          250.6956\n        ],\n        \"semantic_type\": \"\",\n        \"description\": \"\"\n      }\n    },\n    {\n      \"column\": \"Mean Anomoly (deg)\",\n      \"properties\": {\n        \"dtype\": \"number\",\n        \"std\": 116.12306525995936,\n        \"min\": 0.0031,\n        \"max\": 359.9982,\n        \"num_unique_values\": 15605,\n        \"samples\": [\n          181.0428,\n          241.2238,\n          162.5287\n        ],\n        \"semantic_type\": \"\",\n        \"description\": \"\"\n      }\n    },\n    {\n      \"column\": \"Perihelion Distance (AU)\",\n      \"properties\": {\n        \"dtype\": \"number\",\n        \"std\": 0.2403085999495684,\n        \"min\": 0.0707,\n        \"max\": 1.3,\n        \"num_unique_values\": 7206,\n        \"samples\": [\n          1.1822,\n          0.8175,\n          1.2863\n        ],\n        \"semantic_type\": \"\",\n        \"description\": \"\"\n      }\n    },\n    {\n      \"column\": \"Aphelion Distance (AU)\",\n      \"properties\": {\n        \"dtype\": \"number\",\n        \"std\": 1.1426589894515053,\n        \"min\": 0.8,\n        \"max\": 41.54,\n        \"num_unique_values\": 519,\n        \"samples\": [\n          2.25,\n          3.35,\n          1.66\n        ],\n        \"semantic_type\": \"\",\n        \"description\": \"\"\n      }\n    },\n    {\n      \"column\": \"Orbital Period (yr)\",\n      \"properties\": {\n        \"dtype\": \"number\",\n        \"std\": 1.5175878273971026,\n        \"min\": 0.41,\n        \"max\": 98.97,\n        \"num_unique_values\": 600,\n        \"samples\": [\n          2.31,\n          4.78,\n          6.19\n        ],\n        \"semantic_type\": \"\",\n        \"description\": \"\"\n      }\n    },\n    {\n      \"column\": \"Minimum Orbit Intersection Distance (AU)\",\n      \"properties\": {\n        \"dtype\": \"number\",\n        \"std\": 0.10593687276720995,\n        \"min\": 0.0,\n        \"max\": 0.7069,\n        \"num_unique_values\": 3449,\n        \"samples\": [\n          0.1603,\n          0.3513,\n          0.1955\n        ],\n        \"semantic_type\": \"\",\n        \"description\": \"\"\n      }\n    },\n    {\n      \"column\": \"Orbital Reference\",\n      \"properties\": {\n        \"dtype\": \"number\",\n        \"std\": 33,\n        \"min\": 1,\n        \"max\": 635,\n        \"num_unique_values\": 262,\n        \"samples\": [\n          4,\n          193,\n          212\n        ],\n        \"semantic_type\": \"\",\n        \"description\": \"\"\n      }\n    },\n    {\n      \"column\": \"Asteroid Magnitude\",\n      \"properties\": {\n        \"dtype\": \"number\",\n        \"std\": 3.0159053247670684,\n        \"min\": 9.45,\n        \"max\": 33.2,\n        \"num_unique_values\": 478,\n        \"samples\": [\n          26.86,\n          15.21,\n          26.5\n        ],\n        \"semantic_type\": \"\",\n        \"description\": \"\"\n      }\n    },\n    {\n      \"column\": \"Classification\",\n      \"properties\": {\n        \"dtype\": \"number\",\n        \"std\": 1,\n        \"min\": 0,\n        \"max\": 3,\n        \"num_unique_values\": 4,\n        \"samples\": [\n          2,\n          1,\n          0\n        ],\n        \"semantic_type\": \"\",\n        \"description\": \"\"\n      }\n    }\n  ]\n}"
            }
          },
          "metadata": {},
          "execution_count": 77
        }
      ]
    },
    {
      "cell_type": "code",
      "source": [
        "y.info()"
      ],
      "metadata": {
        "colab": {
          "base_uri": "https://localhost:8080/"
        },
        "id": "25absDgMb0nh",
        "outputId": "0aa6ab07-9b45-4aaa-f5f9-8f4cc9637f3b"
      },
      "execution_count": null,
      "outputs": [
        {
          "output_type": "stream",
          "name": "stdout",
          "text": [
            "<class 'pandas.core.series.Series'>\n",
            "RangeIndex: 15635 entries, 0 to 15634\n",
            "Series name: Hazardous\n",
            "Non-Null Count  Dtype\n",
            "--------------  -----\n",
            "15635 non-null  int64\n",
            "dtypes: int64(1)\n",
            "memory usage: 122.3 KB\n"
          ]
        }
      ]
    },
    {
      "cell_type": "code",
      "source": [
        "y.value_counts()"
      ],
      "metadata": {
        "colab": {
          "base_uri": "https://localhost:8080/"
        },
        "id": "rjS6eJ3Ub2D_",
        "outputId": "9e3eb504-ad05-49a2-de6a-c6ed9eeee148"
      },
      "execution_count": null,
      "outputs": [
        {
          "output_type": "execute_result",
          "data": {
            "text/plain": [
              "Hazardous\n",
              "0    13856\n",
              "1     1779\n",
              "Name: count, dtype: int64"
            ]
          },
          "metadata": {},
          "execution_count": 79
        }
      ]
    },
    {
      "cell_type": "code",
      "source": [
        "X.isnull().sum().sum()"
      ],
      "metadata": {
        "colab": {
          "base_uri": "https://localhost:8080/"
        },
        "id": "JEmsuZXeb37B",
        "outputId": "c8db0e16-b799-42cc-e9fd-bc897224dc4a"
      },
      "execution_count": null,
      "outputs": [
        {
          "output_type": "execute_result",
          "data": {
            "text/plain": [
              "0"
            ]
          },
          "metadata": {},
          "execution_count": 80
        }
      ]
    },
    {
      "cell_type": "code",
      "source": [
        "y.isnull().sum()"
      ],
      "metadata": {
        "colab": {
          "base_uri": "https://localhost:8080/"
        },
        "id": "tzVm7vQsb6aM",
        "outputId": "dcc27a3b-d7a1-4af2-8376-b60d4e06d49e"
      },
      "execution_count": null,
      "outputs": [
        {
          "output_type": "execute_result",
          "data": {
            "text/plain": [
              "0"
            ]
          },
          "metadata": {},
          "execution_count": 81
        }
      ]
    },
    {
      "cell_type": "code",
      "source": [
        "# scaling\n",
        "x_cols = X.columns\n",
        "scaler = StandardScaler()\n",
        "X = scaler.fit_transform(X)"
      ],
      "metadata": {
        "id": "Si9IItiAcSKy"
      },
      "execution_count": null,
      "outputs": []
    },
    {
      "cell_type": "code",
      "source": [
        "X = pd.DataFrame(X, columns = x_cols)\n",
        "X.head()"
      ],
      "metadata": {
        "colab": {
          "base_uri": "https://localhost:8080/",
          "height": 295
        },
        "id": "0IpJRrjj1WEh",
        "outputId": "38cca7f5-a28f-4649-adc6-bac0e1c8750a"
      },
      "execution_count": null,
      "outputs": [
        {
          "output_type": "execute_result",
          "data": {
            "text/plain": [
              "   Epoch (TDB)  Orbit Axis (AU)  Orbit Eccentricity  Orbit Inclination (deg)  \\\n",
              "0     0.372348        -0.535638           -1.290346                -0.186986   \n",
              "1     0.372348         1.421559            0.558004                -0.120233   \n",
              "2     0.372348         1.156643            0.667098                -0.317183   \n",
              "3     0.372348         1.461843            0.477888                 1.216658   \n",
              "4     0.372348         0.228939           -0.080083                -0.093930   \n",
              "\n",
              "   Perihelion Argument (deg)  Node Longitude (deg)  Mean Anomoly (deg)  \\\n",
              "0                  -0.026041              1.273489            1.261428   \n",
              "1                  -0.244260              0.108804            0.445392   \n",
              "2                   1.625650             -0.600960            1.537540   \n",
              "3                  -0.472183              0.414806           -0.691279   \n",
              "4                  -1.490984             -0.012839            1.213433   \n",
              "\n",
              "   Perihelion Distance (AU)  Aphelion Distance (AU)  Orbital Period (yr)  \\\n",
              "0                  0.909642               -0.758857            -0.470107   \n",
              "1                  1.156416                1.254057             1.197065   \n",
              "2                  0.658291                1.079021             0.940070   \n",
              "3                  1.358246                1.254057             1.236603   \n",
              "4                  0.700321                0.098819             0.122958   \n",
              "\n",
              "   Minimum Orbit Intersection Distance (AU)  Orbital Reference  \\\n",
              "0                                  0.446655          17.130459   \n",
              "1                                  0.929978           1.668541   \n",
              "2                                 -0.088586           4.939332   \n",
              "3                                  2.267609          17.100725   \n",
              "4                                  0.046404           1.430666   \n",
              "\n",
              "   Asteroid Magnitude  Classification  \n",
              "0           -3.689337       -1.226929  \n",
              "1           -2.250254       -1.226929  \n",
              "2           -2.946584       -1.226929  \n",
              "3           -4.256349       -1.226929  \n",
              "4           -1.520765       -1.226929  "
            ],
            "text/html": [
              "\n",
              "  <div id=\"df-475d39d7-0b14-41f6-87b6-d198663c4355\" class=\"colab-df-container\">\n",
              "    <div>\n",
              "<style scoped>\n",
              "    .dataframe tbody tr th:only-of-type {\n",
              "        vertical-align: middle;\n",
              "    }\n",
              "\n",
              "    .dataframe tbody tr th {\n",
              "        vertical-align: top;\n",
              "    }\n",
              "\n",
              "    .dataframe thead th {\n",
              "        text-align: right;\n",
              "    }\n",
              "</style>\n",
              "<table border=\"1\" class=\"dataframe\">\n",
              "  <thead>\n",
              "    <tr style=\"text-align: right;\">\n",
              "      <th></th>\n",
              "      <th>Epoch (TDB)</th>\n",
              "      <th>Orbit Axis (AU)</th>\n",
              "      <th>Orbit Eccentricity</th>\n",
              "      <th>Orbit Inclination (deg)</th>\n",
              "      <th>Perihelion Argument (deg)</th>\n",
              "      <th>Node Longitude (deg)</th>\n",
              "      <th>Mean Anomoly (deg)</th>\n",
              "      <th>Perihelion Distance (AU)</th>\n",
              "      <th>Aphelion Distance (AU)</th>\n",
              "      <th>Orbital Period (yr)</th>\n",
              "      <th>Minimum Orbit Intersection Distance (AU)</th>\n",
              "      <th>Orbital Reference</th>\n",
              "      <th>Asteroid Magnitude</th>\n",
              "      <th>Classification</th>\n",
              "    </tr>\n",
              "  </thead>\n",
              "  <tbody>\n",
              "    <tr>\n",
              "      <th>0</th>\n",
              "      <td>0.372348</td>\n",
              "      <td>-0.535638</td>\n",
              "      <td>-1.290346</td>\n",
              "      <td>-0.186986</td>\n",
              "      <td>-0.026041</td>\n",
              "      <td>1.273489</td>\n",
              "      <td>1.261428</td>\n",
              "      <td>0.909642</td>\n",
              "      <td>-0.758857</td>\n",
              "      <td>-0.470107</td>\n",
              "      <td>0.446655</td>\n",
              "      <td>17.130459</td>\n",
              "      <td>-3.689337</td>\n",
              "      <td>-1.226929</td>\n",
              "    </tr>\n",
              "    <tr>\n",
              "      <th>1</th>\n",
              "      <td>0.372348</td>\n",
              "      <td>1.421559</td>\n",
              "      <td>0.558004</td>\n",
              "      <td>-0.120233</td>\n",
              "      <td>-0.244260</td>\n",
              "      <td>0.108804</td>\n",
              "      <td>0.445392</td>\n",
              "      <td>1.156416</td>\n",
              "      <td>1.254057</td>\n",
              "      <td>1.197065</td>\n",
              "      <td>0.929978</td>\n",
              "      <td>1.668541</td>\n",
              "      <td>-2.250254</td>\n",
              "      <td>-1.226929</td>\n",
              "    </tr>\n",
              "    <tr>\n",
              "      <th>2</th>\n",
              "      <td>0.372348</td>\n",
              "      <td>1.156643</td>\n",
              "      <td>0.667098</td>\n",
              "      <td>-0.317183</td>\n",
              "      <td>1.625650</td>\n",
              "      <td>-0.600960</td>\n",
              "      <td>1.537540</td>\n",
              "      <td>0.658291</td>\n",
              "      <td>1.079021</td>\n",
              "      <td>0.940070</td>\n",
              "      <td>-0.088586</td>\n",
              "      <td>4.939332</td>\n",
              "      <td>-2.946584</td>\n",
              "      <td>-1.226929</td>\n",
              "    </tr>\n",
              "    <tr>\n",
              "      <th>3</th>\n",
              "      <td>0.372348</td>\n",
              "      <td>1.461843</td>\n",
              "      <td>0.477888</td>\n",
              "      <td>1.216658</td>\n",
              "      <td>-0.472183</td>\n",
              "      <td>0.414806</td>\n",
              "      <td>-0.691279</td>\n",
              "      <td>1.358246</td>\n",
              "      <td>1.254057</td>\n",
              "      <td>1.236603</td>\n",
              "      <td>2.267609</td>\n",
              "      <td>17.100725</td>\n",
              "      <td>-4.256349</td>\n",
              "      <td>-1.226929</td>\n",
              "    </tr>\n",
              "    <tr>\n",
              "      <th>4</th>\n",
              "      <td>0.372348</td>\n",
              "      <td>0.228939</td>\n",
              "      <td>-0.080083</td>\n",
              "      <td>-0.093930</td>\n",
              "      <td>-1.490984</td>\n",
              "      <td>-0.012839</td>\n",
              "      <td>1.213433</td>\n",
              "      <td>0.700321</td>\n",
              "      <td>0.098819</td>\n",
              "      <td>0.122958</td>\n",
              "      <td>0.046404</td>\n",
              "      <td>1.430666</td>\n",
              "      <td>-1.520765</td>\n",
              "      <td>-1.226929</td>\n",
              "    </tr>\n",
              "  </tbody>\n",
              "</table>\n",
              "</div>\n",
              "    <div class=\"colab-df-buttons\">\n",
              "\n",
              "  <div class=\"colab-df-container\">\n",
              "    <button class=\"colab-df-convert\" onclick=\"convertToInteractive('df-475d39d7-0b14-41f6-87b6-d198663c4355')\"\n",
              "            title=\"Convert this dataframe to an interactive table.\"\n",
              "            style=\"display:none;\">\n",
              "\n",
              "  <svg xmlns=\"http://www.w3.org/2000/svg\" height=\"24px\" viewBox=\"0 -960 960 960\">\n",
              "    <path d=\"M120-120v-720h720v720H120Zm60-500h600v-160H180v160Zm220 220h160v-160H400v160Zm0 220h160v-160H400v160ZM180-400h160v-160H180v160Zm440 0h160v-160H620v160ZM180-180h160v-160H180v160Zm440 0h160v-160H620v160Z\"/>\n",
              "  </svg>\n",
              "    </button>\n",
              "\n",
              "  <style>\n",
              "    .colab-df-container {\n",
              "      display:flex;\n",
              "      gap: 12px;\n",
              "    }\n",
              "\n",
              "    .colab-df-convert {\n",
              "      background-color: #E8F0FE;\n",
              "      border: none;\n",
              "      border-radius: 50%;\n",
              "      cursor: pointer;\n",
              "      display: none;\n",
              "      fill: #1967D2;\n",
              "      height: 32px;\n",
              "      padding: 0 0 0 0;\n",
              "      width: 32px;\n",
              "    }\n",
              "\n",
              "    .colab-df-convert:hover {\n",
              "      background-color: #E2EBFA;\n",
              "      box-shadow: 0px 1px 2px rgba(60, 64, 67, 0.3), 0px 1px 3px 1px rgba(60, 64, 67, 0.15);\n",
              "      fill: #174EA6;\n",
              "    }\n",
              "\n",
              "    .colab-df-buttons div {\n",
              "      margin-bottom: 4px;\n",
              "    }\n",
              "\n",
              "    [theme=dark] .colab-df-convert {\n",
              "      background-color: #3B4455;\n",
              "      fill: #D2E3FC;\n",
              "    }\n",
              "\n",
              "    [theme=dark] .colab-df-convert:hover {\n",
              "      background-color: #434B5C;\n",
              "      box-shadow: 0px 1px 3px 1px rgba(0, 0, 0, 0.15);\n",
              "      filter: drop-shadow(0px 1px 2px rgba(0, 0, 0, 0.3));\n",
              "      fill: #FFFFFF;\n",
              "    }\n",
              "  </style>\n",
              "\n",
              "    <script>\n",
              "      const buttonEl =\n",
              "        document.querySelector('#df-475d39d7-0b14-41f6-87b6-d198663c4355 button.colab-df-convert');\n",
              "      buttonEl.style.display =\n",
              "        google.colab.kernel.accessAllowed ? 'block' : 'none';\n",
              "\n",
              "      async function convertToInteractive(key) {\n",
              "        const element = document.querySelector('#df-475d39d7-0b14-41f6-87b6-d198663c4355');\n",
              "        const dataTable =\n",
              "          await google.colab.kernel.invokeFunction('convertToInteractive',\n",
              "                                                    [key], {});\n",
              "        if (!dataTable) return;\n",
              "\n",
              "        const docLinkHtml = 'Like what you see? Visit the ' +\n",
              "          '<a target=\"_blank\" href=https://colab.research.google.com/notebooks/data_table.ipynb>data table notebook</a>'\n",
              "          + ' to learn more about interactive tables.';\n",
              "        element.innerHTML = '';\n",
              "        dataTable['output_type'] = 'display_data';\n",
              "        await google.colab.output.renderOutput(dataTable, element);\n",
              "        const docLink = document.createElement('div');\n",
              "        docLink.innerHTML = docLinkHtml;\n",
              "        element.appendChild(docLink);\n",
              "      }\n",
              "    </script>\n",
              "  </div>\n",
              "\n",
              "\n",
              "<div id=\"df-e5a0925d-8964-4920-a603-a07d6e5c6a3f\">\n",
              "  <button class=\"colab-df-quickchart\" onclick=\"quickchart('df-e5a0925d-8964-4920-a603-a07d6e5c6a3f')\"\n",
              "            title=\"Suggest charts\"\n",
              "            style=\"display:none;\">\n",
              "\n",
              "<svg xmlns=\"http://www.w3.org/2000/svg\" height=\"24px\"viewBox=\"0 0 24 24\"\n",
              "     width=\"24px\">\n",
              "    <g>\n",
              "        <path d=\"M19 3H5c-1.1 0-2 .9-2 2v14c0 1.1.9 2 2 2h14c1.1 0 2-.9 2-2V5c0-1.1-.9-2-2-2zM9 17H7v-7h2v7zm4 0h-2V7h2v10zm4 0h-2v-4h2v4z\"/>\n",
              "    </g>\n",
              "</svg>\n",
              "  </button>\n",
              "\n",
              "<style>\n",
              "  .colab-df-quickchart {\n",
              "      --bg-color: #E8F0FE;\n",
              "      --fill-color: #1967D2;\n",
              "      --hover-bg-color: #E2EBFA;\n",
              "      --hover-fill-color: #174EA6;\n",
              "      --disabled-fill-color: #AAA;\n",
              "      --disabled-bg-color: #DDD;\n",
              "  }\n",
              "\n",
              "  [theme=dark] .colab-df-quickchart {\n",
              "      --bg-color: #3B4455;\n",
              "      --fill-color: #D2E3FC;\n",
              "      --hover-bg-color: #434B5C;\n",
              "      --hover-fill-color: #FFFFFF;\n",
              "      --disabled-bg-color: #3B4455;\n",
              "      --disabled-fill-color: #666;\n",
              "  }\n",
              "\n",
              "  .colab-df-quickchart {\n",
              "    background-color: var(--bg-color);\n",
              "    border: none;\n",
              "    border-radius: 50%;\n",
              "    cursor: pointer;\n",
              "    display: none;\n",
              "    fill: var(--fill-color);\n",
              "    height: 32px;\n",
              "    padding: 0;\n",
              "    width: 32px;\n",
              "  }\n",
              "\n",
              "  .colab-df-quickchart:hover {\n",
              "    background-color: var(--hover-bg-color);\n",
              "    box-shadow: 0 1px 2px rgba(60, 64, 67, 0.3), 0 1px 3px 1px rgba(60, 64, 67, 0.15);\n",
              "    fill: var(--button-hover-fill-color);\n",
              "  }\n",
              "\n",
              "  .colab-df-quickchart-complete:disabled,\n",
              "  .colab-df-quickchart-complete:disabled:hover {\n",
              "    background-color: var(--disabled-bg-color);\n",
              "    fill: var(--disabled-fill-color);\n",
              "    box-shadow: none;\n",
              "  }\n",
              "\n",
              "  .colab-df-spinner {\n",
              "    border: 2px solid var(--fill-color);\n",
              "    border-color: transparent;\n",
              "    border-bottom-color: var(--fill-color);\n",
              "    animation:\n",
              "      spin 1s steps(1) infinite;\n",
              "  }\n",
              "\n",
              "  @keyframes spin {\n",
              "    0% {\n",
              "      border-color: transparent;\n",
              "      border-bottom-color: var(--fill-color);\n",
              "      border-left-color: var(--fill-color);\n",
              "    }\n",
              "    20% {\n",
              "      border-color: transparent;\n",
              "      border-left-color: var(--fill-color);\n",
              "      border-top-color: var(--fill-color);\n",
              "    }\n",
              "    30% {\n",
              "      border-color: transparent;\n",
              "      border-left-color: var(--fill-color);\n",
              "      border-top-color: var(--fill-color);\n",
              "      border-right-color: var(--fill-color);\n",
              "    }\n",
              "    40% {\n",
              "      border-color: transparent;\n",
              "      border-right-color: var(--fill-color);\n",
              "      border-top-color: var(--fill-color);\n",
              "    }\n",
              "    60% {\n",
              "      border-color: transparent;\n",
              "      border-right-color: var(--fill-color);\n",
              "    }\n",
              "    80% {\n",
              "      border-color: transparent;\n",
              "      border-right-color: var(--fill-color);\n",
              "      border-bottom-color: var(--fill-color);\n",
              "    }\n",
              "    90% {\n",
              "      border-color: transparent;\n",
              "      border-bottom-color: var(--fill-color);\n",
              "    }\n",
              "  }\n",
              "</style>\n",
              "\n",
              "  <script>\n",
              "    async function quickchart(key) {\n",
              "      const quickchartButtonEl =\n",
              "        document.querySelector('#' + key + ' button');\n",
              "      quickchartButtonEl.disabled = true;  // To prevent multiple clicks.\n",
              "      quickchartButtonEl.classList.add('colab-df-spinner');\n",
              "      try {\n",
              "        const charts = await google.colab.kernel.invokeFunction(\n",
              "            'suggestCharts', [key], {});\n",
              "      } catch (error) {\n",
              "        console.error('Error during call to suggestCharts:', error);\n",
              "      }\n",
              "      quickchartButtonEl.classList.remove('colab-df-spinner');\n",
              "      quickchartButtonEl.classList.add('colab-df-quickchart-complete');\n",
              "    }\n",
              "    (() => {\n",
              "      let quickchartButtonEl =\n",
              "        document.querySelector('#df-e5a0925d-8964-4920-a603-a07d6e5c6a3f button');\n",
              "      quickchartButtonEl.style.display =\n",
              "        google.colab.kernel.accessAllowed ? 'block' : 'none';\n",
              "    })();\n",
              "  </script>\n",
              "</div>\n",
              "\n",
              "    </div>\n",
              "  </div>\n"
            ],
            "application/vnd.google.colaboratory.intrinsic+json": {
              "type": "dataframe",
              "variable_name": "X",
              "summary": "{\n  \"name\": \"X\",\n  \"rows\": 15635,\n  \"fields\": [\n    {\n      \"column\": \"Epoch (TDB)\",\n      \"properties\": {\n        \"dtype\": \"number\",\n        \"std\": 1.0000319810672165,\n        \"min\": -11.261469272565707,\n        \"max\": 0.37234817327660247,\n        \"num_unique_values\": 1834,\n        \"samples\": [\n          -2.398383516822376,\n          -3.41448981999411,\n          -1.4825170428842782\n        ],\n        \"semantic_type\": \"\",\n        \"description\": \"\"\n      }\n    },\n    {\n      \"column\": \"Orbit Axis (AU)\",\n      \"properties\": {\n        \"dtype\": \"number\",\n        \"std\": 1.0000319810672165,\n        \"min\": -2.0447319872969754,\n        \"max\": 32.516719019997396,\n        \"num_unique_values\": 10927,\n        \"samples\": [\n          1.5737447399174758,\n          -0.7271137608847125,\n          0.40847819318222245\n        ],\n        \"semantic_type\": \"\",\n        \"description\": \"\"\n      }\n    },\n    {\n      \"column\": \"Orbit Eccentricity\",\n      \"properties\": {\n        \"dtype\": \"number\",\n        \"std\": 1.0000319810672165,\n        \"min\": -2.5301544032773458,\n        \"max\": 2.9535282737295456,\n        \"num_unique_values\": 6279,\n        \"samples\": [\n          1.7926989597594822,\n          -1.1960245798795446,\n          -1.6045592234157537\n        ],\n        \"semantic_type\": \"\",\n        \"description\": \"\"\n      }\n    },\n    {\n      \"column\": \"Orbit Inclination (deg)\",\n      \"properties\": {\n        \"dtype\": \"number\",\n        \"std\": 1.0000319810672165,\n        \"min\": -1.1436454612155142,\n        \"max\": 12.513099374368322,\n        \"num_unique_values\": 15170,\n        \"samples\": [\n          -0.9207728467669949,\n          -0.46350841879044447,\n          -0.24095430754228017\n        ],\n        \"semantic_type\": \"\",\n        \"description\": \"\"\n      }\n    },\n    {\n      \"column\": \"Perihelion Argument (deg)\",\n      \"properties\": {\n        \"dtype\": \"number\",\n        \"std\": 1.0000319810672162,\n        \"min\": -1.7475729885866944,\n        \"max\": 1.7185257642219827,\n        \"num_unique_values\": 15607,\n        \"samples\": [\n          0.007942870620358193,\n          -1.5931022589916903,\n          0.9883879406404298\n        ],\n        \"semantic_type\": \"\",\n        \"description\": \"\"\n      }\n    },\n    {\n      \"column\": \"Node Longitude (deg)\",\n      \"properties\": {\n        \"dtype\": \"number\",\n        \"std\": 1.0000319810672165,\n        \"min\": -1.6701852979523253,\n        \"max\": 1.8119987434761373,\n        \"num_unique_values\": 15597,\n        \"samples\": [\n          -1.6480709480266915,\n          1.3688189295937971,\n          0.7547186574178028\n        ],\n        \"semantic_type\": \"\",\n        \"description\": \"\"\n      }\n    },\n    {\n      \"column\": \"Mean Anomoly (deg)\",\n      \"properties\": {\n        \"dtype\": \"number\",\n        \"std\": 1.0000319810672165,\n        \"min\": -1.488397589961212,\n        \"max\": 1.611818652363777,\n        \"num_unique_values\": 15605,\n        \"samples\": [\n          0.07068534879446359,\n          0.5889538298914568,\n          -0.08875491450920116\n        ],\n        \"semantic_type\": \"\",\n        \"description\": \"\"\n      }\n    },\n    {\n      \"column\": \"Perihelion Distance (AU)\",\n      \"properties\": {\n        \"dtype\": \"number\",\n        \"std\": 1.0000319810672165,\n        \"min\": -3.5131457035698745,\n        \"max\": 1.6025235424909012,\n        \"num_unique_values\": 7206,\n        \"samples\": [\n          1.1123048512145977,\n          -0.40537559622570524,\n          1.5455116912983258\n        ],\n        \"semantic_type\": \"\",\n        \"description\": \"\"\n      }\n    },\n    {\n      \"column\": \"Aphelion Distance (AU)\",\n      \"properties\": {\n        \"dtype\": \"number\",\n        \"std\": 1.0000319810672165,\n        \"min\": -1.6165328005900785,\n        \"max\": 34.038289228364405,\n        \"num_unique_values\": 519,\n        \"samples\": [\n          -0.34752219818497304,\n          0.6151755001913141,\n          -0.8638782364049815\n        ],\n        \"semantic_type\": \"\",\n        \"description\": \"\"\n      }\n    },\n    {\n      \"column\": \"Orbital Period (yr)\",\n      \"properties\": {\n        \"dtype\": \"number\",\n        \"std\": 1.0000319810672165,\n        \"min\": -1.3597054566163378,\n        \"max\": 63.58754192809409,\n        \"num_unique_values\": 600,\n        \"samples\": [\n          -0.10767856912699315,\n          1.5199563846091553,\n          2.449092127430195\n        ],\n        \"semantic_type\": \"\",\n        \"description\": \"\"\n      }\n    },\n    {\n      \"column\": \"Minimum Orbit Intersection Distance (AU)\",\n      \"properties\": {\n        \"dtype\": \"number\",\n        \"std\": 1.0000319810672165,\n        \"min\": -0.9617755951388518,\n        \"max\": 5.711279677786148,\n        \"num_unique_values\": 3449,\n        \"samples\": [\n          0.5514380988063705,\n          2.354456286850896,\n          0.883722079011435\n        ],\n        \"semantic_type\": \"\",\n        \"description\": \"\"\n      }\n    },\n    {\n      \"column\": \"Orbital Reference\",\n      \"properties\": {\n        \"dtype\": \"number\",\n        \"std\": 1.0000319810672165,\n        \"min\": -0.621011792001469,\n        \"max\": 18.230634032797997,\n        \"num_unique_values\": 262,\n        \"samples\": [\n          -0.5318084205907461,\n          5.088003978284805,\n          5.652958663886051\n        ],\n        \"semantic_type\": \"\",\n        \"description\": \"\"\n      }\n    },\n    {\n      \"column\": \"Asteroid Magnitude\",\n      \"properties\": {\n        \"dtype\": \"number\",\n        \"std\": 1.0000319810672162,\n        \"min\": -4.256349151618108,\n        \"max\": 3.61881833301796,\n        \"num_unique_values\": 478,\n        \"samples\": [\n          1.5165630971193205,\n          -2.346413795344265,\n          1.3971921373522056\n        ],\n        \"semantic_type\": \"\",\n        \"description\": \"\"\n      }\n    },\n    {\n      \"column\": \"Classification\",\n      \"properties\": {\n        \"dtype\": \"number\",\n        \"std\": 1.0000319810672165,\n        \"min\": -1.2269292105410319,\n        \"max\": 1.5993704957956294,\n        \"num_unique_values\": 4,\n        \"samples\": [\n          0.657270593683409,\n          -0.28482930842881143,\n          -1.2269292105410319\n        ],\n        \"semantic_type\": \"\",\n        \"description\": \"\"\n      }\n    }\n  ]\n}"
            }
          },
          "metadata": {},
          "execution_count": 83
        }
      ]
    },
    {
      "cell_type": "code",
      "source": [
        "# splitting the data\n",
        "X_train, X_test, y_train, y_test = train_test_split(X, y, test_size = 0.3, random_state = 0)"
      ],
      "metadata": {
        "id": "VK-pKm5rcckw"
      },
      "execution_count": null,
      "outputs": []
    },
    {
      "cell_type": "code",
      "source": [
        "# KNN Classifier Model\n",
        "knn = KNeighborsClassifier(n_neighbors = 3)\n",
        "mlflow.log_param('n_neighbors', 3)\n",
        "\n",
        "labels = knn.fit(X_train, y_train)"
      ],
      "metadata": {
        "id": "aLGVNmQFdRSp"
      },
      "execution_count": null,
      "outputs": []
    },
    {
      "cell_type": "code",
      "source": [
        "# predicting y\n",
        "y_pred = knn.predict(X_test)\n",
        "mlflow.log_param('y_pred result', y_pred)"
      ],
      "metadata": {
        "colab": {
          "base_uri": "https://localhost:8080/"
        },
        "id": "D4XP5N4adtt_",
        "outputId": "2dbdf5ff-eb35-404a-c06c-5939eb3884ab"
      },
      "execution_count": null,
      "outputs": [
        {
          "output_type": "execute_result",
          "data": {
            "text/plain": [
              "array([0, 1, 0, ..., 0, 1, 0])"
            ]
          },
          "metadata": {},
          "execution_count": 86
        }
      ]
    },
    {
      "cell_type": "code",
      "source": [
        "from sklearn.metrics import accuracy_score, precision_score, recall_score, f1_score\n",
        "from sklearn.metrics import confusion_matrix"
      ],
      "metadata": {
        "id": "Y_NxM8dwpuy0"
      },
      "execution_count": null,
      "outputs": []
    },
    {
      "cell_type": "code",
      "source": [
        "knn_accuracy = round(accuracy_score(y_test, y_pred), 2)\n",
        "knn_precision = round(precision_score(y_test, y_pred), 2)\n",
        "knn_recall = round(recall_score(y_test, y_pred), 2)\n",
        "knn_f1 = round(f1_score(y_test, y_pred), 2)\n",
        "knn_matrix = confusion_matrix(y_test, y_pred)\n",
        "\n",
        "print(\n",
        "    f'Accuracy: {knn_accuracy}\\n\\n'\n",
        "    f'Precision: {knn_precision}\\n\\n'\n",
        "    f'Recall: {knn_recall}\\n\\n'\n",
        "    f'F1: {knn_f1}\\n\\n'\n",
        "    f'Confusion Matrix:\\n {knn_matrix}\\n\\n')"
      ],
      "metadata": {
        "colab": {
          "base_uri": "https://localhost:8080/"
        },
        "id": "NECnvwJgprPy",
        "outputId": "b12c6c8f-5da5-4101-803e-b325406da1c5"
      },
      "execution_count": null,
      "outputs": [
        {
          "output_type": "stream",
          "name": "stdout",
          "text": [
            "Accuracy: 0.93\n",
            "\n",
            "Precision: 0.73\n",
            "\n",
            "Recall: 0.59\n",
            "\n",
            "F1: 0.65\n",
            "\n",
            "Confusion Matrix:\n",
            " [[4057  113]\n",
            " [ 214  307]]\n",
            "\n",
            "\n"
          ]
        }
      ]
    },
    {
      "cell_type": "code",
      "source": [
        "# Logging Metrics.\n",
        "mlflow.log_metric('Accuracy', knn_accuracy)\n",
        "mlflow.log_metric('Precision', knn_precision)\n",
        "mlflow.log_metric('Recall', knn_recall)\n",
        "mlflow.log_metric('F1', knn_f1)"
      ],
      "metadata": {
        "id": "uIjatTRfp5DW"
      },
      "execution_count": null,
      "outputs": []
    },
    {
      "cell_type": "code",
      "source": [
        "# extracting model's features & predictions\n",
        "from mlflow.models import infer_signature # model schema extraction"
      ],
      "metadata": {
        "id": "8hHJSXwoqWfs"
      },
      "execution_count": null,
      "outputs": []
    },
    {
      "cell_type": "code",
      "source": [
        "# scehma of input (X) * predictions (y_pred)\n",
        "signature = infer_signature(X, y_pred) # similar to SQL schema size (or smthn like it)\n",
        "\n",
        "# Path within MLflow artifacts directory where model is saved\n",
        "cluster_model_info = mlflow.sklearn.log_model(sk_model = knn,\n",
        "      artifact_path = 'kmeans_classification', signature = signature)"
      ],
      "metadata": {
        "id": "8YRSIFJup8Tw"
      },
      "execution_count": null,
      "outputs": []
    },
    {
      "cell_type": "code",
      "source": [
        "# graphing the model\n",
        "import matplotlib.pyplot as plt"
      ],
      "metadata": {
        "id": "L2nkcGihqIVd"
      },
      "execution_count": null,
      "outputs": []
    },
    {
      "cell_type": "code",
      "source": [
        "from sklearn.metrics import ConfusionMatrixDisplay\n",
        "cmd = ConfusionMatrixDisplay(knn_matrix, display_labels = knn.classes_)\n",
        "cmd.plot(cmap = plt.cm.Blues)\n",
        "plt.show()\n",
        "mlflow.sklearn.log_model(knn, 'KNN ConfusionMatrixDisplay Model')\n",
        "\n",
        "'''\n",
        "TN (0, 0) = 4057, class was 0 and it actually predicted 0\n",
        "FP (0, 1) = 113, class was 0 but it predicted 1\n",
        "FN (1, 0) = 214, class was 1 but it predicted 0\n",
        "TP (1, 1) = 126, class was 1 and it actually predicted 1\n",
        "'''"
      ],
      "metadata": {
        "colab": {
          "base_uri": "https://localhost:8080/",
          "height": 485
        },
        "id": "xtVRqIKZrEtm",
        "outputId": "cff33106-c958-4fd9-8c6e-ad69a8fc7e14"
      },
      "execution_count": null,
      "outputs": [
        {
          "output_type": "display_data",
          "data": {
            "text/plain": [
              "<Figure size 640x480 with 2 Axes>"
            ],
            "image/png": "[encoded data removed]"
          },
          "metadata": {}
        },
        {
          "output_type": "execute_result",
          "data": {
            "text/plain": [
              "'\\nTN (0, 0) = 4057, class was 0 and it actually predicted 0\\nFP (0, 1) = 113, class was 0 but it predicted 1\\nFN (1, 0) = 214, class was 1 but it predicted 0\\nTP (1, 1) = 126, class was 1 and it actually predicted 1\\n'"
            ],
            "application/vnd.google.colaboratory.intrinsic+json": {
              "type": "string"
            }
          },
          "metadata": {},
          "execution_count": 93
        }
      ]
    },
    {
      "cell_type": "code",
      "source": [
        "mlflow.end_run()"
      ],
      "metadata": {
        "id": "LDcUBpsdsFcK"
      },
      "execution_count": null,
      "outputs": []
    },
    {
      "cell_type": "code",
      "source": [
        "import shutil\n",
        "shutil.make_archive('/content/mlruns', 'zip', '/content/mlruns')"
      ],
      "metadata": {
        "colab": {
          "base_uri": "https://localhost:8080/",
          "height": 35
        },
        "id": "5p9jvu_MGhq4",
        "outputId": "8ca61e8a-0165-44c2-f793-7b74fb35e04b"
      },
      "execution_count": null,
      "outputs": [
        {
          "output_type": "execute_result",
          "data": {
            "text/plain": [
              "'/content/mlruns.zip'"
            ],
            "application/vnd.google.colaboratory.intrinsic+json": {
              "type": "string"
            }
          },
          "metadata": {},
          "execution_count": 95
        }
      ]
    },
    {
      "cell_type": "code",
      "source": [
        "from google.colab import files\n",
        "files.download('/content/mlruns.zip')"
      ],
      "metadata": {
        "colab": {
          "base_uri": "https://localhost:8080/",
          "height": 17
        },
        "id": "wG5ZXcOoG5y1",
        "outputId": "3e21f664-ed6d-4031-a193-87a065d29741"
      },
      "execution_count": null,
      "outputs": [
        {
          "output_type": "display_data",
          "data": {
            "text/plain": [
              "<IPython.core.display.Javascript object>"
            ],
            "application/javascript": [
              "\n",
              "    async function download(id, filename, size) {\n",
              "      if (!google.colab.kernel.accessAllowed) {\n",
              "        return;\n",
              "      }\n",
              "      const div = document.createElement('div');\n",
              "      const label = document.createElement('label');\n",
              "      label.textContent = `Downloading \"${filename}\": `;\n",
              "      div.appendChild(label);\n",
              "      const progress = document.createElement('progress');\n",
              "      progress.max = size;\n",
              "      div.appendChild(progress);\n",
              "      document.body.appendChild(div);\n",
              "\n",
              "      const buffers = [];\n",
              "      let downloaded = 0;\n",
              "\n",
              "      const channel = await google.colab.kernel.comms.open(id);\n",
              "      // Send a message to notify the kernel that we're ready.\n",
              "      channel.send({})\n",
              "\n",
              "      for await (const message of channel.messages) {\n",
              "        // Send a message to notify the kernel that we're ready.\n",
              "        channel.send({})\n",
              "        if (message.buffers) {\n",
              "          for (const buffer of message.buffers) {\n",
              "            buffers.push(buffer);\n",
              "            downloaded += buffer.byteLength;\n",
              "            progress.value = downloaded;\n",
              "          }\n",
              "        }\n",
              "      }\n",
              "      const blob = new Blob(buffers, {type: 'application/binary'});\n",
              "      const a = document.createElement('a');\n",
              "      a.href = window.URL.createObjectURL(blob);\n",
              "      a.download = filename;\n",
              "      div.appendChild(a);\n",
              "      a.click();\n",
              "      div.remove();\n",
              "    }\n",
              "  "
            ]
          },
          "metadata": {}
        },
        {
          "output_type": "display_data",
          "data": {
            "text/plain": [
              "<IPython.core.display.Javascript object>"
            ],
            "application/javascript": [
              "download(\"download_9756ed76-1afe-4093-bfdf-21c2a59c820f\", \"mlruns.zip\", 3842119)"
            ]
          },
          "metadata": {}
        }
      ]
    },
    {
      "cell_type": "code",
      "source": [],
      "metadata": {
        "id": "-GSp6PTb0On0"
      },
      "execution_count": null,
      "outputs": []
    }
  ]
}