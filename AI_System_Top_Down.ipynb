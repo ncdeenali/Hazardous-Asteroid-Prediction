{
  "nbformat": 4,
  "nbformat_minor": 0,
  "metadata": {
    "colab": {
      "provenance": []
    },
    "kernelspec": {
      "name": "python3",
      "display_name": "Python 3"
    },
    "language_info": {
      "name": "python"
    }
  },
  "cells": [
    {
      "cell_type": "code",
      "execution_count": null,
      "metadata": {
        "id": "x0JST9pl_kMl"
      },
      "outputs": [],
      "source": [
        "# needed libraries\n",
        "import pandas as pd\n",
        "import numpy as np\n",
        "from sklearn.neighbors import KNeighborsClassifier"
      ]
    },
    {
      "cell_type": "code",
      "source": [
        "df = pd.read_csv('/content/HarazdousAsteroid.csv')"
      ],
      "metadata": {
        "id": "8AokGpyFhO42"
      },
      "execution_count": null,
      "outputs": []
    },
    {
      "cell_type": "code",
      "source": [
        "df.info()"
      ],
      "metadata": {
        "colab": {
          "base_uri": "https://localhost:8080/"
        },
        "id": "DbnDeJxRnZqI",
        "outputId": "4b5edb1a-e696-4b6a-8593-6fce35e41389"
      },
      "execution_count": null,
      "outputs": [
        {
          "output_type": "stream",
          "name": "stdout",
          "text": [
            "<class 'pandas.core.frame.DataFrame'>\n",
            "RangeIndex: 15635 entries, 0 to 15634\n",
            "Data columns (total 16 columns):\n",
            " #   Column                                    Non-Null Count  Dtype  \n",
            "---  ------                                    --------------  -----  \n",
            " 0   Object Name                               15635 non-null  object \n",
            " 1   Epoch (TDB)                               15635 non-null  int64  \n",
            " 2   Orbit Axis (AU)                           15635 non-null  float64\n",
            " 3   Orbit Eccentricity                        15635 non-null  float64\n",
            " 4   Orbit Inclination (deg)                   15635 non-null  float64\n",
            " 5   Perihelion Argument (deg)                 15635 non-null  float64\n",
            " 6   Node Longitude (deg)                      15635 non-null  float64\n",
            " 7   Mean Anomoly (deg)                        15635 non-null  float64\n",
            " 8   Perihelion Distance (AU)                  15635 non-null  float64\n",
            " 9   Aphelion Distance (AU)                    15635 non-null  float64\n",
            " 10  Orbital Period (yr)                       15635 non-null  float64\n",
            " 11  Minimum Orbit Intersection Distance (AU)  15635 non-null  float64\n",
            " 12  Orbital Reference                         15635 non-null  int64  \n",
            " 13  Asteroid Magnitude                        15634 non-null  float64\n",
            " 14  Classification                            15635 non-null  object \n",
            " 15  Hazardous                                 15635 non-null  bool   \n",
            "dtypes: bool(1), float64(11), int64(2), object(2)\n",
            "memory usage: 1.8+ MB\n"
          ]
        }
      ]
    },
    {
      "cell_type": "code",
      "source": [
        "def display_dataset():\n",
        "  print(df.head())"
      ],
      "metadata": {
        "id": "Z-Qr-kl9mzN9"
      },
      "execution_count": null,
      "outputs": []
    },
    {
      "cell_type": "code",
      "source": [
        "def enter_user_input():\n",
        "  print(f'\\nPlease enter the following details about the asteroid: \\n')\n",
        "\n",
        "  epoch = int(input('Epoch (TDB): ')) #1\n",
        "  orbit_axis = float(input('Orbit Axis (AU): ')) #2\n",
        "  orbit_eccentricity = float(input('Orbit Eccentricity: ')) #3\n",
        "  orbit_inclination = float(input('Orbit Inclination (deg): ')) #4\n",
        "  perihelion_argument = float(input('Perihelion Argument (AU): ')) #5\n",
        "  node_longitude = float(input('Node Longitude (deg): ')) #6\n",
        "  mean_anomaly = float(input('Mean Anomaly (deg): ')) #7\n",
        "  perihelion_distance = float(input('Perihelion Distance (AU): ')) #8\n",
        "  aphelion_distance = float(input('Aphelion Distance (AU): ')) #9\n",
        "  orbital_period = float(input('Orbital Period (days): ')) #10\n",
        "  minimum_distance = float(input('Minimum Orbit Intersection Distance (AU): ')) #11\n",
        "  orbital_reference = int(input('Orbital Reference: ')) #12\n",
        "  asteroid_magnitude = float(input('Asteroid Magnitude: ')) #13\n",
        "  classification = input('Classification: ') #14\n",
        "\n",
        "  userdf = {'Epoch (TDB)': epoch,\n",
        "            'Orbit Axis (AU)': orbit_axis,\n",
        "            'Orbit Eccentricity': orbit_eccentricity,\n",
        "            'Orbit Inclination (deg)': orbit_inclination,\n",
        "            'Perihelion Argument (AU)': perihelion_argument,\n",
        "            'Node Longitude (deg)': node_longitude,\n",
        "            'Mean Anomaly (deg)': mean_anomaly,\n",
        "            'Perihelion Distance (AU)': perihelion_distance,\n",
        "            'Aphelion Distance (AU)': aphelion_distance,\n",
        "            'Orbital Period (days)': orbital_period,\n",
        "            'Minimum Orbit Intersection Distance (AU)': minimum_distance,\n",
        "            'Orbital Reference': orbital_reference,\n",
        "            'Asteroid Magnitude': asteroid_magnitude,\n",
        "             'Classification': classification}\n",
        "\n",
        "  return pd.DataFrame([userdf])"
      ],
      "metadata": {
        "id": "zRqD8jJgnDeG"
      },
      "execution_count": null,
      "outputs": []
    },
    {
      "cell_type": "code",
      "source": [
        "from sklearn.preprocessing import LabelEncoder\n",
        "from sklearn.preprocessing import StandardScaler # scaling\n",
        "\n",
        "def preprocessing(df, userdf):\n",
        "  data = df.drop(['Object Name'], axis = 1) # don't need this\n",
        "\n",
        "  # filling nulls values\n",
        "  for column in data.columns:\n",
        "    if data[column].dtype == type(object):\n",
        "      data[column].fillna(data[column].mode()[0], inplace = True)\n",
        "      lbl = LabelEncoder()\n",
        "      cols = ['Classification', 'Hazardous']\n",
        "      data[cols] = data[cols].apply(lbl.fit_transform)\n",
        "    else:\n",
        "      data[column].fillna(data[column].mean(), inplace = True)\n",
        "\n",
        "  # label encoding\n",
        "  X = data.drop(['Hazardous'], axis = 1)\n",
        "  y = data['Hazardous']\n",
        "  userdf['Classification'] = lbl.fit_trasnform(userdf['Classification'])\n",
        "\n",
        "  # scaling\n",
        "  scaler = StandardScaler()\n",
        "  X_scaled = scaler.fit_transform(X)\n",
        "  userdf_scaled = scaler.fit_trasnform(userdf)\n",
        "\n",
        "  prediction = training(X_scaled, y, userdf_scaled)\n",
        "  return prediction"
      ],
      "metadata": {
        "id": "pw9TPBuGxDiF"
      },
      "execution_count": null,
      "outputs": []
    },
    {
      "cell_type": "code",
      "source": [
        "def training(X, y, userdf):\n",
        "  knn = KNeighborsClassifier(n_neighbors = 5)\n",
        "  knn.fit(X, y)\n",
        "  prediction = knn.predict(userdf)\n",
        "  return prediction[0]"
      ],
      "metadata": {
        "id": "cOGHb_y12U48"
      },
      "execution_count": null,
      "outputs": []
    },
    {
      "cell_type": "code",
      "source": [
        "def menu():\n",
        "  while True:\n",
        "    print(f'\\n\\n\\t - - - - - - - - - - \\n\\n'\n",
        "          f'Hi! Welcome to Your Space Shuttle :)',\n",
        "          f' Here, we are experts at classifying hazardous asteroids for your safety!'\n",
        "          f'\\n\\nPlease enter how you\\'d like to be assisted: '\n",
        "          f'\\n1. Display Hazardous Asteroids Dataset'\n",
        "          f'\\n2. Predict Hazardous Asteroid'\n",
        "          f'\\n3. Exit')\n",
        "\n",
        "    option = int(input('\\n\\tEnter your choice: '))\n",
        "    if option == 1:\n",
        "      print('\\n')\n",
        "      display_dataset()\n",
        "    elif option == 2:\n",
        "      user_input = enter_user_input()\n",
        "      prediction = preprocessing(df, user_input)\n",
        "      if prediction == 0:\n",
        "        print('\\nYour asteroid is not hazardous :)')\n",
        "      else:\n",
        "        print('\\nYour asteroid is hazardous :(')\n",
        "    elif option == 3:\n",
        "      print('\\nThank you for using the Space Shuttle! Sad to see you go :(')\n",
        "      break\n",
        "    else:\n",
        "      print('\\nUh oh, wrong choice :( Please try again!')"
      ],
      "metadata": {
        "id": "GoYDbVMfk_PQ"
      },
      "execution_count": null,
      "outputs": []
    },
    {
      "cell_type": "code",
      "source": [
        "# use this\n",
        "\n",
        "'''\n",
        "Epoch (TDB): 57800\n",
        "Orbit Axis (AU): 1.4579\n",
        "Orbit Eccentricity: 0.2226\n",
        "Orbit Inclination (deg): 10.8277\n",
        "Perihelion Argument (AU): 178.805\n",
        "Node Longitude (deg): 304.3265\n",
        "Mean Anomaly (deg): 319.3111\n",
        "Perihelion Distance (AU): 1.1335\n",
        "Aphelion Distance (AU): 1.78\n",
        "Orbital Period (days): 1.76\n",
        "Minimum Orbit Intersection Distance (AU): 0.1492\n",
        "Orbital Reference: 598\n",
        "Asteroid Magnitude: 11.16\n",
        "Classification: Amor Asteroid\n",
        "'''"
      ],
      "metadata": {
        "colab": {
          "base_uri": "https://localhost:8080/",
          "height": 122
        },
        "id": "Z87Ag0BwAWgh",
        "outputId": "d0bde28e-d934-4546-e490-53f1582886f2"
      },
      "execution_count": null,
      "outputs": [
        {
          "output_type": "execute_result",
          "data": {
            "text/plain": [
              "'\\nEpoch (TDB): 57800\\nOrbit Axis (AU): 1.4579\\nOrbit Eccentricity: 0.2226\\nOrbit Inclination (deg): 10.8277\\nPerihelion Argument (AU): 178.805\\nNode Longitude (deg): 304.3265\\nMean Anomaly (deg): 319.3111\\nPerihelion Distance (AU): 1.1335\\nAphelion Distance (AU): 1.78\\nOrbital Period (days): 1.76\\nMinimum Orbit Intersection Distance (AU): 0.1492\\nOrbital Reference: 598\\nAsteroid Magnitude: 11.16\\nClassification: Amor Asteroid\\n'"
            ],
            "application/vnd.google.colaboratory.intrinsic+json": {
              "type": "string"
            }
          },
          "metadata": {},
          "execution_count": 40
        }
      ]
    },
    {
      "cell_type": "code",
      "source": [
        "menu() # try option 1"
      ],
      "metadata": {
        "colab": {
          "base_uri": "https://localhost:8080/",
          "height": 456
        },
        "id": "ppEfRskt6R67",
        "outputId": "ed2f007f-6e5e-4972-d939-5093e2d2dc31"
      },
      "execution_count": null,
      "outputs": [
        {
          "output_type": "stream",
          "name": "stdout",
          "text": [
            "\n",
            "\n",
            "\t - - - - - - - - - - \n",
            "\n",
            "Hi! Welcome to Your Space Shuttle :)  Here, we are experts at classifying hazardous asteroids for your safety!\n",
            "\n",
            "Please enter how you'd like to be assisted: \n",
            "1. Display Hazardous Asteroids Dataset\n",
            "2. Predict Hazardous Asteroid\n",
            "3. Exit\n"
          ]
        },
        {
          "output_type": "error",
          "ename": "TypeError",
          "evalue": "input() takes 0 positional arguments but 1 was given",
          "traceback": [
            "\u001b[0;31m---------------------------------------------------------------------------\u001b[0m",
            "\u001b[0;31mTypeError\u001b[0m                                 Traceback (most recent call last)",
            "\u001b[0;32m<ipython-input-42-ffece79f7240>\u001b[0m in \u001b[0;36m<cell line: 1>\u001b[0;34m()\u001b[0m\n\u001b[0;32m----> 1\u001b[0;31m \u001b[0mmenu\u001b[0m\u001b[0;34m(\u001b[0m\u001b[0;34m)\u001b[0m \u001b[0;31m# try option 1\u001b[0m\u001b[0;34m\u001b[0m\u001b[0;34m\u001b[0m\u001b[0m\n\u001b[0m",
            "\u001b[0;32m<ipython-input-39-7e36369c4e0c>\u001b[0m in \u001b[0;36mmenu\u001b[0;34m()\u001b[0m\n\u001b[1;32m      9\u001b[0m           f'\\n3. Exit')\n\u001b[1;32m     10\u001b[0m \u001b[0;34m\u001b[0m\u001b[0m\n\u001b[0;32m---> 11\u001b[0;31m     \u001b[0moption\u001b[0m \u001b[0;34m=\u001b[0m \u001b[0mint\u001b[0m\u001b[0;34m(\u001b[0m\u001b[0minput\u001b[0m\u001b[0;34m(\u001b[0m\u001b[0;34m'\\n\\tEnter your choice: '\u001b[0m\u001b[0;34m)\u001b[0m\u001b[0;34m)\u001b[0m\u001b[0;34m\u001b[0m\u001b[0;34m\u001b[0m\u001b[0m\n\u001b[0m\u001b[1;32m     12\u001b[0m     \u001b[0;32mif\u001b[0m \u001b[0moption\u001b[0m \u001b[0;34m==\u001b[0m \u001b[0;36m1\u001b[0m\u001b[0;34m:\u001b[0m\u001b[0;34m\u001b[0m\u001b[0;34m\u001b[0m\u001b[0m\n\u001b[1;32m     13\u001b[0m       \u001b[0mprint\u001b[0m\u001b[0;34m(\u001b[0m\u001b[0;34m'\\n'\u001b[0m\u001b[0;34m)\u001b[0m\u001b[0;34m\u001b[0m\u001b[0;34m\u001b[0m\u001b[0m\n",
            "\u001b[0;31mTypeError\u001b[0m: input() takes 0 positional arguments but 1 was given"
          ]
        }
      ]
    },
    {
      "cell_type": "code",
      "source": [],
      "metadata": {
        "id": "6-JadrmK7Ci7"
      },
      "execution_count": null,
      "outputs": []
    }
  ]
}